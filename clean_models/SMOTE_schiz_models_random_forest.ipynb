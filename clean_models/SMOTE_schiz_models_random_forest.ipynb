{
  "nbformat": 4,
  "nbformat_minor": 0,
  "metadata": {
    "colab": {
      "provenance": [],
      "authorship_tag": "ABX9TyMfD5WALyZ8zj6xVJDyjPSk",
      "include_colab_link": true
    },
    "kernelspec": {
      "name": "python3",
      "display_name": "Python 3"
    },
    "language_info": {
      "name": "python"
    },
    "accelerator": "GPU",
    "gpuClass": "premium"
  },
  "cells": [
    {
      "cell_type": "markdown",
      "metadata": {
        "id": "view-in-github",
        "colab_type": "text"
      },
      "source": [
        "<a href=\"https://colab.research.google.com/github/Whoami666/HSE_Lab/blob/main/clean_models/SMOTE_schiz_models_random_forest.ipynb\" target=\"_parent\"><img src=\"https://colab.research.google.com/assets/colab-badge.svg\" alt=\"Open In Colab\"/></a>"
      ]
    },
    {
      "cell_type": "code",
      "source": [
        "from google.colab import drive\n",
        "drive.mount('/content/drive/')"
      ],
      "metadata": {
        "colab": {
          "base_uri": "https://localhost:8080/"
        },
        "id": "Hm4Gv0JiOFmk",
        "outputId": "8a4e1622-eb79-49ed-cb7f-e6b6398cdbe1"
      },
      "execution_count": null,
      "outputs": [
        {
          "output_type": "stream",
          "name": "stdout",
          "text": [
            "Mounted at /content/drive/\n"
          ]
        }
      ]
    },
    {
      "cell_type": "code",
      "source": [
        "%cd drive\n",
        "%cd MyDrive\n",
        "%cd shiz"
      ],
      "metadata": {
        "colab": {
          "base_uri": "https://localhost:8080/"
        },
        "id": "P6U-kZ7fOWnJ",
        "outputId": "d778c4e7-0122-4066-91d1-a24c8d9fbd9e"
      },
      "execution_count": null,
      "outputs": [
        {
          "output_type": "stream",
          "name": "stdout",
          "text": [
            "/content/drive\n",
            "/content/drive/MyDrive\n",
            "/content/drive/MyDrive/shiz\n"
          ]
        }
      ]
    },
    {
      "cell_type": "code",
      "source": [
        "import warnings\n",
        "import pandas as pd\n",
        "import numpy as np\n",
        "import matplotlib.pyplot as plt"
      ],
      "metadata": {
        "id": "lF-8DAAdfu_V"
      },
      "execution_count": null,
      "outputs": []
    },
    {
      "cell_type": "code",
      "source": [
        "!pip install scikit-optimize"
      ],
      "metadata": {
        "id": "eMO3X_vOfyP0",
        "colab": {
          "base_uri": "https://localhost:8080/"
        },
        "outputId": "6deee391-5936-4580-fa67-a7a23292a654"
      },
      "execution_count": null,
      "outputs": [
        {
          "output_type": "stream",
          "name": "stdout",
          "text": [
            "Looking in indexes: https://pypi.org/simple, https://us-python.pkg.dev/colab-wheels/public/simple/\n",
            "Collecting scikit-optimize\n",
            "  Downloading scikit_optimize-0.9.0-py2.py3-none-any.whl (100 kB)\n",
            "\u001b[2K     \u001b[90m━━━━━━━━━━━━━━━━━━━━━━━━━━━━━━━━━━━━━━\u001b[0m \u001b[32m100.3/100.3 KB\u001b[0m \u001b[31m10.8 MB/s\u001b[0m eta \u001b[36m0:00:00\u001b[0m\n",
            "\u001b[?25hRequirement already satisfied: joblib>=0.11 in /usr/local/lib/python3.9/dist-packages (from scikit-optimize) (1.1.1)\n",
            "Requirement already satisfied: scipy>=0.19.1 in /usr/local/lib/python3.9/dist-packages (from scikit-optimize) (1.10.1)\n",
            "Requirement already satisfied: scikit-learn>=0.20.0 in /usr/local/lib/python3.9/dist-packages (from scikit-optimize) (1.2.2)\n",
            "Collecting pyaml>=16.9\n",
            "  Downloading pyaml-21.10.1-py2.py3-none-any.whl (24 kB)\n",
            "Requirement already satisfied: numpy>=1.13.3 in /usr/local/lib/python3.9/dist-packages (from scikit-optimize) (1.22.4)\n",
            "Requirement already satisfied: PyYAML in /usr/local/lib/python3.9/dist-packages (from pyaml>=16.9->scikit-optimize) (6.0)\n",
            "Requirement already satisfied: threadpoolctl>=2.0.0 in /usr/local/lib/python3.9/dist-packages (from scikit-learn>=0.20.0->scikit-optimize) (3.1.0)\n",
            "Installing collected packages: pyaml, scikit-optimize\n",
            "Successfully installed pyaml-21.10.1 scikit-optimize-0.9.0\n"
          ]
        }
      ]
    },
    {
      "cell_type": "code",
      "source": [
        "from sklearn.model_selection import train_test_split\n",
        "\n",
        "from sklearn.metrics import classification_report\n",
        "from sklearn.metrics import accuracy_score\n",
        "from sklearn.model_selection import cross_val_score\n",
        "from sklearn.model_selection import cross_validate\n",
        "from sklearn.metrics import recall_score\n",
        "from sklearn.metrics import roc_auc_score\n",
        "\n",
        "from skopt import BayesSearchCV\n",
        "from sklearn.datasets import load_digits\n",
        "from sklearn.ensemble import RandomForestClassifier\n",
        "\n",
        "from sklearn.model_selection import KFold\n",
        "\n",
        "from imblearn.over_sampling import SMOTE"
      ],
      "metadata": {
        "id": "6030Ov49etBu"
      },
      "execution_count": null,
      "outputs": []
    },
    {
      "cell_type": "code",
      "source": [
        "scoring = ['recall', 'accuracy', 'f1', 'roc_auc']"
      ],
      "metadata": {
        "id": "krJ2h_mgjtbJ"
      },
      "execution_count": null,
      "outputs": []
    },
    {
      "cell_type": "code",
      "source": [
        "df = pd.read_excel('df_standard_cleaned_21feb.xlsx') \n",
        "df1d = pd.read_excel('df_standard_only1dfeatures.xlsx')\n",
        "\n",
        "df = df.set_index('ID')\n",
        "df1d = df1d.set_index('ID')\n",
        "df.head(1)"
      ],
      "metadata": {
        "colab": {
          "base_uri": "https://localhost:8080/",
          "height": 223
        },
        "id": "p_fxmc9SeuDD",
        "outputId": "11489255-24fd-412c-e801-13796a8a3d09"
      },
      "execution_count": null,
      "outputs": [
        {
          "output_type": "execute_result",
          "data": {
            "text/plain": [
              "        sex  tds  chroma_cens_avg  chroma_cens_std  chroma_cqt_avg  \\\n",
              "ID                                                                   \n",
              "PD-003    1    0         0.685706         0.428088        0.425039   \n",
              "\n",
              "        chroma_cqt_std  chroma_stft_avg  chroma_stft_std  melspectrogram_avg  \\\n",
              "ID                                                                             \n",
              "PD-003        0.296394         0.339246         0.434412            0.327867   \n",
              "\n",
              "        melspectrogram_std  ...  spectral_flatness_std  spectral_rolloff_avg  \\\n",
              "ID                          ...                                                \n",
              "PD-003            0.348849  ...                0.31499              0.397736   \n",
              "\n",
              "        spectral_rolloff_std  tempogram_avg  tempogram_std  tonnetz_avg  \\\n",
              "ID                                                                        \n",
              "PD-003              0.254215       0.747885       0.719312     0.691479   \n",
              "\n",
              "        tonnetz_std  zero_crossing_rate_avg  zero_crossing_rate_std  \\\n",
              "ID                                                                    \n",
              "PD-003     0.329593                0.197304                0.281692   \n",
              "\n",
              "        tds_binary  \n",
              "ID                  \n",
              "PD-003           0  \n",
              "\n",
              "[1 rows x 31 columns]"
            ],
            "text/html": [
              "\n",
              "  <div id=\"df-07b45b36-f398-431f-b7cf-c0528bd01d1b\">\n",
              "    <div class=\"colab-df-container\">\n",
              "      <div>\n",
              "<style scoped>\n",
              "    .dataframe tbody tr th:only-of-type {\n",
              "        vertical-align: middle;\n",
              "    }\n",
              "\n",
              "    .dataframe tbody tr th {\n",
              "        vertical-align: top;\n",
              "    }\n",
              "\n",
              "    .dataframe thead th {\n",
              "        text-align: right;\n",
              "    }\n",
              "</style>\n",
              "<table border=\"1\" class=\"dataframe\">\n",
              "  <thead>\n",
              "    <tr style=\"text-align: right;\">\n",
              "      <th></th>\n",
              "      <th>sex</th>\n",
              "      <th>tds</th>\n",
              "      <th>chroma_cens_avg</th>\n",
              "      <th>chroma_cens_std</th>\n",
              "      <th>chroma_cqt_avg</th>\n",
              "      <th>chroma_cqt_std</th>\n",
              "      <th>chroma_stft_avg</th>\n",
              "      <th>chroma_stft_std</th>\n",
              "      <th>melspectrogram_avg</th>\n",
              "      <th>melspectrogram_std</th>\n",
              "      <th>...</th>\n",
              "      <th>spectral_flatness_std</th>\n",
              "      <th>spectral_rolloff_avg</th>\n",
              "      <th>spectral_rolloff_std</th>\n",
              "      <th>tempogram_avg</th>\n",
              "      <th>tempogram_std</th>\n",
              "      <th>tonnetz_avg</th>\n",
              "      <th>tonnetz_std</th>\n",
              "      <th>zero_crossing_rate_avg</th>\n",
              "      <th>zero_crossing_rate_std</th>\n",
              "      <th>tds_binary</th>\n",
              "    </tr>\n",
              "    <tr>\n",
              "      <th>ID</th>\n",
              "      <th></th>\n",
              "      <th></th>\n",
              "      <th></th>\n",
              "      <th></th>\n",
              "      <th></th>\n",
              "      <th></th>\n",
              "      <th></th>\n",
              "      <th></th>\n",
              "      <th></th>\n",
              "      <th></th>\n",
              "      <th></th>\n",
              "      <th></th>\n",
              "      <th></th>\n",
              "      <th></th>\n",
              "      <th></th>\n",
              "      <th></th>\n",
              "      <th></th>\n",
              "      <th></th>\n",
              "      <th></th>\n",
              "      <th></th>\n",
              "      <th></th>\n",
              "    </tr>\n",
              "  </thead>\n",
              "  <tbody>\n",
              "    <tr>\n",
              "      <th>PD-003</th>\n",
              "      <td>1</td>\n",
              "      <td>0</td>\n",
              "      <td>0.685706</td>\n",
              "      <td>0.428088</td>\n",
              "      <td>0.425039</td>\n",
              "      <td>0.296394</td>\n",
              "      <td>0.339246</td>\n",
              "      <td>0.434412</td>\n",
              "      <td>0.327867</td>\n",
              "      <td>0.348849</td>\n",
              "      <td>...</td>\n",
              "      <td>0.31499</td>\n",
              "      <td>0.397736</td>\n",
              "      <td>0.254215</td>\n",
              "      <td>0.747885</td>\n",
              "      <td>0.719312</td>\n",
              "      <td>0.691479</td>\n",
              "      <td>0.329593</td>\n",
              "      <td>0.197304</td>\n",
              "      <td>0.281692</td>\n",
              "      <td>0</td>\n",
              "    </tr>\n",
              "  </tbody>\n",
              "</table>\n",
              "<p>1 rows × 31 columns</p>\n",
              "</div>\n",
              "      <button class=\"colab-df-convert\" onclick=\"convertToInteractive('df-07b45b36-f398-431f-b7cf-c0528bd01d1b')\"\n",
              "              title=\"Convert this dataframe to an interactive table.\"\n",
              "              style=\"display:none;\">\n",
              "        \n",
              "  <svg xmlns=\"http://www.w3.org/2000/svg\" height=\"24px\"viewBox=\"0 0 24 24\"\n",
              "       width=\"24px\">\n",
              "    <path d=\"M0 0h24v24H0V0z\" fill=\"none\"/>\n",
              "    <path d=\"M18.56 5.44l.94 2.06.94-2.06 2.06-.94-2.06-.94-.94-2.06-.94 2.06-2.06.94zm-11 1L8.5 8.5l.94-2.06 2.06-.94-2.06-.94L8.5 2.5l-.94 2.06-2.06.94zm10 10l.94 2.06.94-2.06 2.06-.94-2.06-.94-.94-2.06-.94 2.06-2.06.94z\"/><path d=\"M17.41 7.96l-1.37-1.37c-.4-.4-.92-.59-1.43-.59-.52 0-1.04.2-1.43.59L10.3 9.45l-7.72 7.72c-.78.78-.78 2.05 0 2.83L4 21.41c.39.39.9.59 1.41.59.51 0 1.02-.2 1.41-.59l7.78-7.78 2.81-2.81c.8-.78.8-2.07 0-2.86zM5.41 20L4 18.59l7.72-7.72 1.47 1.35L5.41 20z\"/>\n",
              "  </svg>\n",
              "      </button>\n",
              "      \n",
              "  <style>\n",
              "    .colab-df-container {\n",
              "      display:flex;\n",
              "      flex-wrap:wrap;\n",
              "      gap: 12px;\n",
              "    }\n",
              "\n",
              "    .colab-df-convert {\n",
              "      background-color: #E8F0FE;\n",
              "      border: none;\n",
              "      border-radius: 50%;\n",
              "      cursor: pointer;\n",
              "      display: none;\n",
              "      fill: #1967D2;\n",
              "      height: 32px;\n",
              "      padding: 0 0 0 0;\n",
              "      width: 32px;\n",
              "    }\n",
              "\n",
              "    .colab-df-convert:hover {\n",
              "      background-color: #E2EBFA;\n",
              "      box-shadow: 0px 1px 2px rgba(60, 64, 67, 0.3), 0px 1px 3px 1px rgba(60, 64, 67, 0.15);\n",
              "      fill: #174EA6;\n",
              "    }\n",
              "\n",
              "    [theme=dark] .colab-df-convert {\n",
              "      background-color: #3B4455;\n",
              "      fill: #D2E3FC;\n",
              "    }\n",
              "\n",
              "    [theme=dark] .colab-df-convert:hover {\n",
              "      background-color: #434B5C;\n",
              "      box-shadow: 0px 1px 3px 1px rgba(0, 0, 0, 0.15);\n",
              "      filter: drop-shadow(0px 1px 2px rgba(0, 0, 0, 0.3));\n",
              "      fill: #FFFFFF;\n",
              "    }\n",
              "  </style>\n",
              "\n",
              "      <script>\n",
              "        const buttonEl =\n",
              "          document.querySelector('#df-07b45b36-f398-431f-b7cf-c0528bd01d1b button.colab-df-convert');\n",
              "        buttonEl.style.display =\n",
              "          google.colab.kernel.accessAllowed ? 'block' : 'none';\n",
              "\n",
              "        async function convertToInteractive(key) {\n",
              "          const element = document.querySelector('#df-07b45b36-f398-431f-b7cf-c0528bd01d1b');\n",
              "          const dataTable =\n",
              "            await google.colab.kernel.invokeFunction('convertToInteractive',\n",
              "                                                     [key], {});\n",
              "          if (!dataTable) return;\n",
              "\n",
              "          const docLinkHtml = 'Like what you see? Visit the ' +\n",
              "            '<a target=\"_blank\" href=https://colab.research.google.com/notebooks/data_table.ipynb>data table notebook</a>'\n",
              "            + ' to learn more about interactive tables.';\n",
              "          element.innerHTML = '';\n",
              "          dataTable['output_type'] = 'display_data';\n",
              "          await google.colab.output.renderOutput(dataTable, element);\n",
              "          const docLink = document.createElement('div');\n",
              "          docLink.innerHTML = docLinkHtml;\n",
              "          element.appendChild(docLink);\n",
              "        }\n",
              "      </script>\n",
              "    </div>\n",
              "  </div>\n",
              "  "
            ]
          },
          "metadata": {},
          "execution_count": 7
        }
      ]
    },
    {
      "cell_type": "markdown",
      "source": [
        "**Non-binary**"
      ],
      "metadata": {
        "id": "6PL8VFRje2hq"
      }
    },
    {
      "cell_type": "markdown",
      "source": [
        "All features"
      ],
      "metadata": {
        "id": "MHiNIs2mOlsE"
      }
    },
    {
      "cell_type": "code",
      "source": [
        "X = df.drop(['tds', 'tds_binary'], axis=1)\n",
        "y = df.tds # Target variable\n",
        "\n",
        "oversample = SMOTE(k_neighbors=2)\n",
        "X, y = oversample.fit_resample(X, y)\n",
        "\n",
        "X_train, X_test, y_train, y_test = train_test_split(X, y, test_size=0.4, random_state=16)"
      ],
      "metadata": {
        "id": "-79b32xAevEr"
      },
      "execution_count": null,
      "outputs": []
    },
    {
      "cell_type": "code",
      "source": [
        "warnings.filterwarnings('ignore')\n",
        "\n",
        "opt = BayesSearchCV(\n",
        "    RandomForestClassifier(),\n",
        "    {\n",
        "        'n_estimators':  (100, 1000),\n",
        "        'max_depth': (10, 100),\n",
        "        'min_samples_split': np.linspace(0.0001, 1, 10),\n",
        "        'min_samples_leaf': np.linspace(0.0001, 0.5, 10),\n",
        "    },\n",
        "    n_iter=32,\n",
        "    cv=3\n",
        ")\n",
        "\n",
        "opt.fit(X_train, y_train)\n",
        "\n",
        "print(\"val. score: %s\" % opt.best_score_)\n",
        "print(\"test score: %s\" % opt.score(X_test, y_test))\n",
        "print(\"best_params: %s\" % opt.best_params_)"
      ],
      "metadata": {
        "colab": {
          "base_uri": "https://localhost:8080/"
        },
        "id": "89DCNmzVe_pF",
        "outputId": "d7806b3a-5eae-4049-fe60-3b567c442c6a"
      },
      "execution_count": null,
      "outputs": [
        {
          "output_type": "stream",
          "name": "stdout",
          "text": [
            "val. score: 0.9481481481481482\n",
            "test score: 0.9777777777777777\n",
            "best_params: OrderedDict([('max_depth', 100), ('min_samples_leaf', 0.0001), ('min_samples_split', 0.0001), ('n_estimators', 1000)])\n"
          ]
        }
      ]
    },
    {
      "cell_type": "code",
      "source": [
        "rfc1 = RandomForestClassifier(n_estimators = opt.best_params_['n_estimators'], \n",
        "                             max_depth = opt.best_params_['max_depth'],\n",
        "                             min_samples_split = opt.best_params_['min_samples_split'],\n",
        "                             min_samples_leaf = opt.best_params_['min_samples_leaf'])\n",
        "rfc1.fit(X_train, y_train)\n",
        "y_pred = rfc1.predict(X_test)\n",
        "print(classification_report(y_test,y_pred))"
      ],
      "metadata": {
        "colab": {
          "base_uri": "https://localhost:8080/"
        },
        "id": "T74ImmC3fA9f",
        "outputId": "e8cfdb8c-5b57-4970-8e91-cf44c6fc54d6"
      },
      "execution_count": null,
      "outputs": [
        {
          "output_type": "stream",
          "name": "stdout",
          "text": [
            "              precision    recall  f1-score   support\n",
            "\n",
            "           0       1.00      0.95      0.97        55\n",
            "           1       0.95      1.00      0.98        60\n",
            "           2       1.00      1.00      1.00        65\n",
            "\n",
            "    accuracy                           0.98       180\n",
            "   macro avg       0.98      0.98      0.98       180\n",
            "weighted avg       0.98      0.98      0.98       180\n",
            "\n"
          ]
        }
      ]
    },
    {
      "cell_type": "code",
      "source": [
        "kf = KFold(n_splits=10)\n",
        "\n",
        "crossval_accuracy = cross_val_score(rfc1, X, y, scoring='accuracy', cv = kf)\n",
        "mean_score = crossval_accuracy.mean()\n",
        "std_score = crossval_accuracy.std()\n",
        "print('accuracy', mean_score, '±', std_score)\n",
        "\n",
        "crossval_recall = cross_val_score(rfc1, X, y, scoring='recall_macro', cv = kf)\n",
        "mean_score = crossval_recall.mean()\n",
        "std_score = crossval_recall.std()\n",
        "print('recall', mean_score, '±', std_score)"
      ],
      "metadata": {
        "colab": {
          "base_uri": "https://localhost:8080/"
        },
        "id": "UmkMtQepOtca",
        "outputId": "412d34ed-0a85-4e96-b97e-9273ea317f94"
      },
      "execution_count": null,
      "outputs": [
        {
          "output_type": "stream",
          "name": "stdout",
          "text": [
            "accuracy 0.9733333333333334 ± 0.03413842554608271\n",
            "recall 0.931685317224533 ± 0.15684747676225122\n"
          ]
        }
      ]
    },
    {
      "cell_type": "code",
      "source": [
        "sorted_idx = rfc1.feature_importances_.argsort()\n",
        "feature_names = [f\"feature {i}\" for i in range(X.shape[1])]\n",
        "plt.barh(X.columns[sorted_idx], rfc1.feature_importances_[sorted_idx])\n",
        "plt.xlabel(\"Random Forest Feature Importance\")\n"
      ],
      "metadata": {
        "colab": {
          "base_uri": "https://localhost:8080/",
          "height": 296
        },
        "id": "26Nqi__URmXm",
        "outputId": "e5fe392d-b328-4562-dbfa-fcf8f8db9cb1"
      },
      "execution_count": null,
      "outputs": [
        {
          "output_type": "execute_result",
          "data": {
            "text/plain": [
              "Text(0.5, 0, 'Random Forest Feature Importance')"
            ]
          },
          "metadata": {},
          "execution_count": 14
        },
        {
          "output_type": "display_data",
          "data": {
            "text/plain": [
              "<Figure size 432x288 with 1 Axes>"
            ],
            "image/png": "[encoded data removed]"
          },
          "metadata": {
            "needs_background": "light"
          }
        }
      ]
    },
    {
      "cell_type": "markdown",
      "source": [
        "Only 1D features"
      ],
      "metadata": {
        "id": "vmWZ9SH8Pe19"
      }
    },
    {
      "cell_type": "code",
      "source": [
        "X = df1d.drop(['tds', 'tds_binary'], axis=1)\n",
        "y = df1d.tds # Target variable\n",
        "\n",
        "oversample = SMOTE(k_neighbors=2)\n",
        "X, y = oversample.fit_resample(X, y)\n",
        "\n",
        "X_train, X_test, y_train, y_test = train_test_split(X, y, test_size=0.4, random_state=16)"
      ],
      "metadata": {
        "id": "XyH30MbsPeco"
      },
      "execution_count": null,
      "outputs": []
    },
    {
      "cell_type": "code",
      "source": [
        "warnings.filterwarnings('ignore')\n",
        "\n",
        "opt = BayesSearchCV(\n",
        "    RandomForestClassifier(),\n",
        "    {\n",
        "        'n_estimators':  (100, 1000),\n",
        "        'max_depth': (10, 100),\n",
        "        'min_samples_split': np.linspace(0.0001, 1, 10),\n",
        "        'min_samples_leaf': np.linspace(0.0001, 0.5, 10),\n",
        "    },\n",
        "    n_iter=32,\n",
        "    scoring='f1_macro',\n",
        "    cv=3\n",
        ")\n",
        "\n",
        "opt.fit(X_train, y_train)\n",
        "\n",
        "print(\"val. score: %s\" % opt.best_score_)\n",
        "print(\"test score: %s\" % opt.score(X_test, y_test))\n",
        "print(\"best_params: %s\" % opt.best_params_)"
      ],
      "metadata": {
        "colab": {
          "base_uri": "https://localhost:8080/"
        },
        "id": "zvY2D53IPeaA",
        "outputId": "0cfd9c80-6870-4287-db78-2ccabda48348"
      },
      "execution_count": null,
      "outputs": [
        {
          "output_type": "stream",
          "name": "stdout",
          "text": [
            "val. score: 0.8822362831413608\n",
            "test score: 0.9531477784302211\n",
            "best_params: OrderedDict([('max_depth', 10), ('min_samples_leaf', 0.0001), ('min_samples_split', 0.0001), ('n_estimators', 1000)])\n"
          ]
        }
      ]
    },
    {
      "cell_type": "code",
      "source": [
        "rfc2 = RandomForestClassifier(n_estimators = opt.best_params_['n_estimators'], \n",
        "                             max_depth = opt.best_params_['max_depth'],\n",
        "                             min_samples_split = opt.best_params_['min_samples_split'],\n",
        "                             min_samples_leaf = opt.best_params_['min_samples_leaf'])\n",
        "rfc2.fit(X_train, y_train)\n",
        "y_pred = rfc2.predict(X_test)\n",
        "print(classification_report(y_test,y_pred))"
      ],
      "metadata": {
        "colab": {
          "base_uri": "https://localhost:8080/"
        },
        "id": "fzbV_ONZPeT2",
        "outputId": "7c9c5e89-2a1c-478b-e8a5-69e0ac82b17b"
      },
      "execution_count": null,
      "outputs": [
        {
          "output_type": "stream",
          "name": "stdout",
          "text": [
            "              precision    recall  f1-score   support\n",
            "\n",
            "           0       0.98      0.85      0.91        55\n",
            "           1       0.89      0.98      0.94        60\n",
            "           2       0.98      1.00      0.99        65\n",
            "\n",
            "    accuracy                           0.95       180\n",
            "   macro avg       0.95      0.95      0.95       180\n",
            "weighted avg       0.95      0.95      0.95       180\n",
            "\n"
          ]
        }
      ]
    },
    {
      "cell_type": "code",
      "source": [
        "kf = KFold(n_splits=10)\n",
        "\n",
        "crossval_accuracy = cross_val_score(rfc2, X, y, scoring='accuracy', cv = kf)\n",
        "mean_score = crossval_accuracy.mean()\n",
        "std_score = crossval_accuracy.std()\n",
        "print('accuracy', mean_score, '±', std_score)\n",
        "\n",
        "crossval_recall = cross_val_score(rfc2, X, y, scoring='recall_macro', cv = kf)\n",
        "mean_score = crossval_recall.mean()\n",
        "std_score = crossval_recall.std()\n",
        "print('recall', mean_score, '±', std_score)"
      ],
      "metadata": {
        "colab": {
          "base_uri": "https://localhost:8080/"
        },
        "id": "EGZCbjdrPkCN",
        "outputId": "5d656299-6bc8-49d4-9541-7cbec3a1dd70"
      },
      "execution_count": null,
      "outputs": [
        {
          "output_type": "stream",
          "name": "stdout",
          "text": [
            "accuracy 0.9488888888888889 ± 0.055377492419453826\n",
            "recall 0.8070609691688123 ± 0.21451088387104605\n"
          ]
        }
      ]
    },
    {
      "cell_type": "code",
      "source": [
        "sorted_idx = rfc2.feature_importances_.argsort()\n",
        "feature_names = [f\"feature {i}\" for i in range(X.shape[1])]\n",
        "plt.barh(X.columns[sorted_idx], rfc2.feature_importances_[sorted_idx])\n",
        "plt.xlabel(\"Random Forest Feature Importance\")"
      ],
      "metadata": {
        "colab": {
          "base_uri": "https://localhost:8080/",
          "height": 296
        },
        "id": "VtHM4rzaPj0p",
        "outputId": "4bd235a1-4d07-40fb-e655-4bb85338f311"
      },
      "execution_count": null,
      "outputs": [
        {
          "output_type": "execute_result",
          "data": {
            "text/plain": [
              "Text(0.5, 0, 'Random Forest Feature Importance')"
            ]
          },
          "metadata": {},
          "execution_count": 39
        },
        {
          "output_type": "display_data",
          "data": {
            "text/plain": [
              "<Figure size 432x288 with 1 Axes>"
            ],
            "image/png": "[encoded data removed]"
          },
          "metadata": {
            "needs_background": "light"
          }
        }
      ]
    },
    {
      "cell_type": "markdown",
      "source": [
        "**Binary**"
      ],
      "metadata": {
        "id": "34AHQVa1j5fG"
      }
    },
    {
      "cell_type": "markdown",
      "source": [
        "All features"
      ],
      "metadata": {
        "id": "YIzZJOBETDkB"
      }
    },
    {
      "cell_type": "code",
      "source": [
        "X = df.drop(['tds', 'tds_binary'], axis=1)\n",
        "y = df.tds_binary # Target variable\n",
        "\n",
        "oversample = SMOTE(k_neighbors=2)\n",
        "X, y = oversample.fit_resample(X, y)\n",
        "\n",
        "X_train, X_test, y_train, y_test = train_test_split(X, y, test_size=0.2, random_state=16)"
      ],
      "metadata": {
        "id": "qfWAfkiej4d7"
      },
      "execution_count": null,
      "outputs": []
    },
    {
      "cell_type": "code",
      "source": [
        "warnings.filterwarnings('ignore')\n",
        "\n",
        "opt = BayesSearchCV(\n",
        "    RandomForestClassifier(),\n",
        "    {\n",
        "        'n_estimators':  (100, 1000),\n",
        "        'max_depth': (10, 100),\n",
        "        'min_samples_split': np.linspace(0.0001, 1, 10), #add integers greater than 1\n",
        "        'min_samples_leaf': np.linspace(0.0001, 0.5, 10), #add integers greater than 1\n",
        "    },\n",
        "    n_iter=32,\n",
        "    scoring='f1_macro',\n",
        "    cv=3\n",
        ")\n",
        "\n",
        "opt.fit(X_train, y_train)\n",
        "\n",
        "print(\"val. score: %s\" % opt.best_score_)\n",
        "print(\"test score: %s\" % opt.score(X_test, y_test))\n",
        "print(\"best_params: %s\" % opt.best_params_)"
      ],
      "metadata": {
        "colab": {
          "base_uri": "https://localhost:8080/"
        },
        "id": "c4BuJCLCj4cC",
        "outputId": "90ebb9a8-780f-44df-913f-e2a4199a548e"
      },
      "execution_count": null,
      "outputs": [
        {
          "output_type": "stream",
          "name": "stdout",
          "text": [
            "val. score: 0.9707909110955227\n",
            "test score: 0.9832167832167833\n",
            "best_params: OrderedDict([('max_depth', 10), ('min_samples_leaf', 0.0001), ('min_samples_split', 0.0001), ('n_estimators', 100)])\n"
          ]
        }
      ]
    },
    {
      "cell_type": "code",
      "source": [
        "rfc3 = RandomForestClassifier(n_estimators = opt.best_params_['n_estimators'], \n",
        "                             max_depth = opt.best_params_['max_depth'],\n",
        "                             min_samples_split = opt.best_params_['min_samples_split'],\n",
        "                             min_samples_leaf = opt.best_params_['min_samples_leaf'])\n",
        "rfc3.fit(X_train, y_train)\n",
        "y_pred = rfc3.predict(X_test)\n",
        "print(classification_report(y_test,y_pred))"
      ],
      "metadata": {
        "colab": {
          "base_uri": "https://localhost:8080/"
        },
        "id": "0UPBM7E1j4aC",
        "outputId": "a556bf5b-046e-41e9-c142-028616e97387"
      },
      "execution_count": null,
      "outputs": [
        {
          "output_type": "stream",
          "name": "stdout",
          "text": [
            "              precision    recall  f1-score   support\n",
            "\n",
            "           0       1.00      0.93      0.96        28\n",
            "           1       0.94      1.00      0.97        32\n",
            "\n",
            "    accuracy                           0.97        60\n",
            "   macro avg       0.97      0.96      0.97        60\n",
            "weighted avg       0.97      0.97      0.97        60\n",
            "\n"
          ]
        }
      ]
    },
    {
      "cell_type": "markdown",
      "source": [
        "![image.png](data:image/png;base64,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)"
      ],
      "metadata": {
        "id": "FXO6ZJBGCitZ"
      }
    },
    {
      "cell_type": "code",
      "source": [
        "kf = KFold(n_splits=10)\n",
        "\n",
        "crossval_accuracy = cross_val_score(rfc3, X, y, scoring='accuracy', cv = kf)\n",
        "mean_score = crossval_accuracy.mean()\n",
        "std_score = crossval_accuracy.std()\n",
        "print('accuracy', mean_score, '±', std_score)\n",
        "\n",
        "crossval_recall = cross_val_score(rfc3, X, y, scoring='recall_macro', cv = kf)\n",
        "mean_score = crossval_recall.mean()\n",
        "std_score = crossval_recall.std()\n",
        "print('recall', mean_score, '±', std_score)"
      ],
      "metadata": {
        "colab": {
          "base_uri": "https://localhost:8080/"
        },
        "id": "YWOchV1yfI0F",
        "outputId": "b77aa73f-f357-4bd1-ce6a-88346db343de"
      },
      "execution_count": null,
      "outputs": [
        {
          "output_type": "stream",
          "name": "stdout",
          "text": [
            "accuracy 0.9633333333333333 ± 0.03480102169636849\n",
            "recall 0.8715127377831552 ± 0.20091482604246358\n"
          ]
        }
      ]
    },
    {
      "cell_type": "code",
      "source": [
        "sorted_idx = rfc3.feature_importances_.argsort()\n",
        "feature_names = [f\"feature {i}\" for i in range(X.shape[1])]\n",
        "plt.barh(X.columns[sorted_idx], rfc3.feature_importances_[sorted_idx])\n",
        "plt.xlabel(\"Random Forest Feature Importance\")"
      ],
      "metadata": {
        "colab": {
          "base_uri": "https://localhost:8080/",
          "height": 296
        },
        "id": "0hCt7uwvS1N5",
        "outputId": "f19819d2-f2a7-45fe-8c72-09b762de9f09"
      },
      "execution_count": null,
      "outputs": [
        {
          "output_type": "execute_result",
          "data": {
            "text/plain": [
              "Text(0.5, 0, 'Random Forest Feature Importance')"
            ]
          },
          "metadata": {},
          "execution_count": 44
        },
        {
          "output_type": "display_data",
          "data": {
            "text/plain": [
              "<Figure size 432x288 with 1 Axes>"
            ],
            "image/png": "[encoded data removed]"
          },
          "metadata": {
            "needs_background": "light"
          }
        }
      ]
    },
    {
      "cell_type": "markdown",
      "source": [
        "Only 1D features"
      ],
      "metadata": {
        "id": "BizRKDVTTE7R"
      }
    },
    {
      "cell_type": "code",
      "source": [
        "X = df1d.drop(['tds', 'tds_binary'], axis=1)\n",
        "y = df1d.tds_binary # Target variable\n",
        "\n",
        "oversample = SMOTE(k_neighbors=2)\n",
        "X, y = oversample.fit_resample(X, y)\n",
        "\n",
        "X_train, X_test, y_train, y_test = train_test_split(X, y, test_size=0.4, random_state=16)"
      ],
      "metadata": {
        "id": "ZXVlMHSMS1Gz"
      },
      "execution_count": null,
      "outputs": []
    },
    {
      "cell_type": "code",
      "source": [
        "warnings.filterwarnings('ignore')\n",
        "\n",
        "opt = BayesSearchCV(\n",
        "    RandomForestClassifier(),\n",
        "    {\n",
        "        'n_estimators':  (100, 1000),\n",
        "        'max_depth': (10, 100),\n",
        "        'min_samples_split': np.linspace(0.0001, 1, 10), #add integers greater than 1\n",
        "        'min_samples_leaf': np.linspace(0.0001, 0.5, 10), #add integers greater than 1\n",
        "    },\n",
        "    n_iter=32,\n",
        "    scoring='f1_macro',\n",
        "    cv=3\n",
        ")\n",
        "\n",
        "opt.fit(X_train, y_train)\n",
        "\n",
        "print(\"val. score: %s\" % opt.best_score_)\n",
        "print(\"test score: %s\" % opt.score(X_test, y_test))\n",
        "print(\"best_params: %s\" % opt.best_params_)"
      ],
      "metadata": {
        "colab": {
          "base_uri": "https://localhost:8080/"
        },
        "id": "9dy6XvONS_SA",
        "outputId": "6be5c030-ef6a-4858-ee53-34cf742a5206"
      },
      "execution_count": null,
      "outputs": [
        {
          "output_type": "stream",
          "name": "stdout",
          "text": [
            "val. score: 0.8662199654647402\n",
            "test score: 0.9072447473824748\n",
            "best_params: OrderedDict([('max_depth', 88), ('min_samples_leaf', 0.0001), ('min_samples_split', 0.0001), ('n_estimators', 1000)])\n"
          ]
        }
      ]
    },
    {
      "cell_type": "code",
      "source": [
        "from sklearn.ensemble import RandomForestClassifier\n",
        "rfc4 = RandomForestClassifier(n_estimators = opt.best_params_['n_estimators'], \n",
        "                             max_depth = opt.best_params_['max_depth'],\n",
        "                             min_samples_split = opt.best_params_['min_samples_split'],\n",
        "                             min_samples_leaf = opt.best_params_['min_samples_leaf'])\n",
        "rfc4.fit(X_train, y_train)\n",
        "y_pred = rfc4.predict(X_test)\n",
        "print(classification_report(y_test,y_pred))"
      ],
      "metadata": {
        "colab": {
          "base_uri": "https://localhost:8080/"
        },
        "id": "CDVdUvYTS_NU",
        "outputId": "65bdbe1c-21c2-41f6-dd46-4830851765b7"
      },
      "execution_count": null,
      "outputs": [
        {
          "output_type": "stream",
          "name": "stdout",
          "text": [
            "              precision    recall  f1-score   support\n",
            "\n",
            "           0       0.92      0.87      0.90        55\n",
            "           1       0.90      0.94      0.92        65\n",
            "\n",
            "    accuracy                           0.91       120\n",
            "   macro avg       0.91      0.91      0.91       120\n",
            "weighted avg       0.91      0.91      0.91       120\n",
            "\n"
          ]
        }
      ]
    },
    {
      "cell_type": "code",
      "source": [
        "kf = KFold(n_splits=10)\n",
        "\n",
        "crossval_accuracy = cross_val_score(rfc4, X, y, scoring='accuracy', cv = kf)\n",
        "mean_score = crossval_accuracy.mean()\n",
        "std_score = crossval_accuracy.std()\n",
        "print('accuracy', mean_score, '±', std_score)\n",
        "\n",
        "crossval_recall = cross_val_score(rfc4, X, y, scoring='recall_macro', cv = kf)\n",
        "mean_score = crossval_recall.mean()\n",
        "std_score = crossval_recall.std()\n",
        "print('recall', mean_score, '±', std_score)"
      ],
      "metadata": {
        "colab": {
          "base_uri": "https://localhost:8080/"
        },
        "id": "DfvYzykQS_K1",
        "outputId": "42dd0b82-dec8-4605-c7a7-6128d0bc50b6"
      },
      "execution_count": null,
      "outputs": [
        {
          "output_type": "stream",
          "name": "stdout",
          "text": [
            "accuracy 0.8933333333333333 ± 0.05537749241945382\n",
            "recall 0.5763994451471766 ± 0.18303141940694378\n"
          ]
        }
      ]
    },
    {
      "cell_type": "code",
      "source": [
        "sorted_idx = rfc4.feature_importances_.argsort()\n",
        "feature_names = [f\"feature {i}\" for i in range(X.shape[1])]\n",
        "plt.barh(X.columns[sorted_idx], rfc4.feature_importances_[sorted_idx])\n",
        "plt.xlabel(\"Random Forest Feature Importance\")"
      ],
      "metadata": {
        "colab": {
          "base_uri": "https://localhost:8080/",
          "height": 296
        },
        "id": "JEnPqetQS_IE",
        "outputId": "b7a5c5db-68fe-4726-9f6a-12cb77f66eb4"
      },
      "execution_count": null,
      "outputs": [
        {
          "output_type": "execute_result",
          "data": {
            "text/plain": [
              "Text(0.5, 0, 'Random Forest Feature Importance')"
            ]
          },
          "metadata": {},
          "execution_count": 34
        },
        {
          "output_type": "display_data",
          "data": {
            "text/plain": [
              "<Figure size 432x288 with 1 Axes>"
            ],
            "image/png": "[encoded data removed]"
          },
          "metadata": {
            "needs_background": "light"
          }
        }
      ]
    },
    {
      "cell_type": "code",
      "source": [],
      "metadata": {
        "id": "qt-ZUtKBS_FY"
      },
      "execution_count": null,
      "outputs": []
    },
    {
      "cell_type": "code",
      "source": [],
      "metadata": {
        "id": "xJPJkeW8S_Cl"
      },
      "execution_count": null,
      "outputs": []
    }
  ]
}