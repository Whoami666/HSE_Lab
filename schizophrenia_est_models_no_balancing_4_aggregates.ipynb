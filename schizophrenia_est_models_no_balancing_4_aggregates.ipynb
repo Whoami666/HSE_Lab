{
  "nbformat": 4,
  "nbformat_minor": 0,
  "metadata": {
    "colab": {
      "provenance": []
    },
    "kernelspec": {
      "name": "python3",
      "display_name": "Python 3"
    },
    "language_info": {
      "name": "python"
    }
  },
  "cells": [
    {
      "cell_type": "code",
      "source": [
        "from google.colab import drive\n",
        "drive.mount('/content/drive/')"
      ],
      "metadata": {
        "colab": {
          "base_uri": "https://localhost:8080/"
        },
        "id": "nsIr_Wl96JYx",
        "outputId": "5e3786cd-9a6a-44d8-c3cc-0c3a4d875639"
      },
      "execution_count": 1,
      "outputs": [
        {
          "output_type": "stream",
          "name": "stdout",
          "text": [
            "Mounted at /content/drive/\n"
          ]
        }
      ]
    },
    {
      "cell_type": "code",
      "source": [
        "%cd drive\n",
        "%cd MyDrive\n",
        "%cd shiz"
      ],
      "metadata": {
        "colab": {
          "base_uri": "https://localhost:8080/"
        },
        "id": "mRpnx6ly6aUD",
        "outputId": "30757faf-8219-42e6-ef4d-7496fe9e5c1a"
      },
      "execution_count": 2,
      "outputs": [
        {
          "output_type": "stream",
          "name": "stdout",
          "text": [
            "/content/drive\n",
            "/content/drive/MyDrive\n",
            "/content/drive/MyDrive/shiz\n"
          ]
        }
      ]
    },
    {
      "cell_type": "code",
      "source": [
        "!pip install scikit-optimize"
      ],
      "metadata": {
        "colab": {
          "base_uri": "https://localhost:8080/"
        },
        "id": "yTBD7QUdyLdc",
        "outputId": "878674f4-49b0-43a6-e5a3-e0c8c3997500"
      },
      "execution_count": 3,
      "outputs": [
        {
          "output_type": "stream",
          "name": "stdout",
          "text": [
            "Looking in indexes: https://pypi.org/simple, https://us-python.pkg.dev/colab-wheels/public/simple/\n",
            "Collecting scikit-optimize\n",
            "  Downloading scikit_optimize-0.9.0-py2.py3-none-any.whl (100 kB)\n",
            "\u001b[2K     \u001b[90m━━━━━━━━━━━━━━━━━━━━━━━━━━━━━━━━━━━━━━━\u001b[0m \u001b[32m100.3/100.3 KB\u001b[0m \u001b[31m8.6 MB/s\u001b[0m eta \u001b[36m0:00:00\u001b[0m\n",
            "\u001b[?25hRequirement already satisfied: numpy>=1.13.3 in /usr/local/lib/python3.8/dist-packages (from scikit-optimize) (1.21.6)\n",
            "Collecting pyaml>=16.9\n",
            "  Downloading pyaml-21.10.1-py2.py3-none-any.whl (24 kB)\n",
            "Requirement already satisfied: joblib>=0.11 in /usr/local/lib/python3.8/dist-packages (from scikit-optimize) (1.2.0)\n",
            "Requirement already satisfied: scipy>=0.19.1 in /usr/local/lib/python3.8/dist-packages (from scikit-optimize) (1.7.3)\n",
            "Requirement already satisfied: scikit-learn>=0.20.0 in /usr/local/lib/python3.8/dist-packages (from scikit-optimize) (1.0.2)\n",
            "Requirement already satisfied: PyYAML in /usr/local/lib/python3.8/dist-packages (from pyaml>=16.9->scikit-optimize) (6.0)\n",
            "Requirement already satisfied: threadpoolctl>=2.0.0 in /usr/local/lib/python3.8/dist-packages (from scikit-learn>=0.20.0->scikit-optimize) (3.1.0)\n",
            "Installing collected packages: pyaml, scikit-optimize\n",
            "Successfully installed pyaml-21.10.1 scikit-optimize-0.9.0\n"
          ]
        }
      ]
    },
    {
      "cell_type": "code",
      "source": [
        "import pandas as pd\n",
        "import numpy as np"
      ],
      "metadata": {
        "id": "LprJsNPNIgzN"
      },
      "execution_count": 4,
      "outputs": []
    },
    {
      "cell_type": "code",
      "execution_count": 5,
      "metadata": {
        "colab": {
          "base_uri": "https://localhost:8080/",
          "height": 275
        },
        "id": "-Q5kZZWXIIAG",
        "outputId": "10d9e469-5319-4229-9ba6-80761ed824e7"
      },
      "outputs": [
        {
          "output_type": "execute_result",
          "data": {
            "text/plain": [
              "        sex   age  education_lvl  education_years  depression  tds      id  \\\n",
              "ID                                                                           \n",
              "PD-003    1  17.0              0               10           0    0  PD-003   \n",
              "\n",
              "                                              chroma_cens  \\\n",
              "ID                                                          \n",
              "PD-003  [[0.12263618 0.12554027 0.12927868 ... 0.08496...   \n",
              "\n",
              "                                               chroma_cqt  \\\n",
              "ID                                                          \n",
              "PD-003  [[0.3973247  0.37109917 0.3040418  ... 0.31691...   \n",
              "\n",
              "                                              chroma_stft  ...  \\\n",
              "ID                                                         ...   \n",
              "PD-003  [[0.9361601  1.         0.9184531  ... 0.65607...  ...   \n",
              "\n",
              "       spectral_flatness_max spectral_flatness_min spectral_rolloff_max  \\\n",
              "ID                                                                        \n",
              "PD-003              0.151449              0.000004          9528.442383   \n",
              "\n",
              "       spectral_rolloff_min tempogram_max tempogram_min tonnetz_max  \\\n",
              "ID                                                                    \n",
              "PD-003           452.197266           1.0 -3.485728e-16    0.609407   \n",
              "\n",
              "       tonnetz_min zero_crossing_rate_max zero_crossing_rate_min  \n",
              "ID                                                                \n",
              "PD-003   -0.628103               0.669434               0.007812  \n",
              "\n",
              "[1 rows x 83 columns]"
            ],
            "text/html": [
              "\n",
              "  <div id=\"df-172aa55f-ef89-4433-a7e7-7cffeed4c2a4\">\n",
              "    <div class=\"colab-df-container\">\n",
              "      <div>\n",
              "<style scoped>\n",
              "    .dataframe tbody tr th:only-of-type {\n",
              "        vertical-align: middle;\n",
              "    }\n",
              "\n",
              "    .dataframe tbody tr th {\n",
              "        vertical-align: top;\n",
              "    }\n",
              "\n",
              "    .dataframe thead th {\n",
              "        text-align: right;\n",
              "    }\n",
              "</style>\n",
              "<table border=\"1\" class=\"dataframe\">\n",
              "  <thead>\n",
              "    <tr style=\"text-align: right;\">\n",
              "      <th></th>\n",
              "      <th>sex</th>\n",
              "      <th>age</th>\n",
              "      <th>education_lvl</th>\n",
              "      <th>education_years</th>\n",
              "      <th>depression</th>\n",
              "      <th>tds</th>\n",
              "      <th>id</th>\n",
              "      <th>chroma_cens</th>\n",
              "      <th>chroma_cqt</th>\n",
              "      <th>chroma_stft</th>\n",
              "      <th>...</th>\n",
              "      <th>spectral_flatness_max</th>\n",
              "      <th>spectral_flatness_min</th>\n",
              "      <th>spectral_rolloff_max</th>\n",
              "      <th>spectral_rolloff_min</th>\n",
              "      <th>tempogram_max</th>\n",
              "      <th>tempogram_min</th>\n",
              "      <th>tonnetz_max</th>\n",
              "      <th>tonnetz_min</th>\n",
              "      <th>zero_crossing_rate_max</th>\n",
              "      <th>zero_crossing_rate_min</th>\n",
              "    </tr>\n",
              "    <tr>\n",
              "      <th>ID</th>\n",
              "      <th></th>\n",
              "      <th></th>\n",
              "      <th></th>\n",
              "      <th></th>\n",
              "      <th></th>\n",
              "      <th></th>\n",
              "      <th></th>\n",
              "      <th></th>\n",
              "      <th></th>\n",
              "      <th></th>\n",
              "      <th></th>\n",
              "      <th></th>\n",
              "      <th></th>\n",
              "      <th></th>\n",
              "      <th></th>\n",
              "      <th></th>\n",
              "      <th></th>\n",
              "      <th></th>\n",
              "      <th></th>\n",
              "      <th></th>\n",
              "      <th></th>\n",
              "    </tr>\n",
              "  </thead>\n",
              "  <tbody>\n",
              "    <tr>\n",
              "      <th>PD-003</th>\n",
              "      <td>1</td>\n",
              "      <td>17.0</td>\n",
              "      <td>0</td>\n",
              "      <td>10</td>\n",
              "      <td>0</td>\n",
              "      <td>0</td>\n",
              "      <td>PD-003</td>\n",
              "      <td>[[0.12263618 0.12554027 0.12927868 ... 0.08496...</td>\n",
              "      <td>[[0.3973247  0.37109917 0.3040418  ... 0.31691...</td>\n",
              "      <td>[[0.9361601  1.         0.9184531  ... 0.65607...</td>\n",
              "      <td>...</td>\n",
              "      <td>0.151449</td>\n",
              "      <td>0.000004</td>\n",
              "      <td>9528.442383</td>\n",
              "      <td>452.197266</td>\n",
              "      <td>1.0</td>\n",
              "      <td>-3.485728e-16</td>\n",
              "      <td>0.609407</td>\n",
              "      <td>-0.628103</td>\n",
              "      <td>0.669434</td>\n",
              "      <td>0.007812</td>\n",
              "    </tr>\n",
              "  </tbody>\n",
              "</table>\n",
              "<p>1 rows × 83 columns</p>\n",
              "</div>\n",
              "      <button class=\"colab-df-convert\" onclick=\"convertToInteractive('df-172aa55f-ef89-4433-a7e7-7cffeed4c2a4')\"\n",
              "              title=\"Convert this dataframe to an interactive table.\"\n",
              "              style=\"display:none;\">\n",
              "        \n",
              "  <svg xmlns=\"http://www.w3.org/2000/svg\" height=\"24px\"viewBox=\"0 0 24 24\"\n",
              "       width=\"24px\">\n",
              "    <path d=\"M0 0h24v24H0V0z\" fill=\"none\"/>\n",
              "    <path d=\"M18.56 5.44l.94 2.06.94-2.06 2.06-.94-2.06-.94-.94-2.06-.94 2.06-2.06.94zm-11 1L8.5 8.5l.94-2.06 2.06-.94-2.06-.94L8.5 2.5l-.94 2.06-2.06.94zm10 10l.94 2.06.94-2.06 2.06-.94-2.06-.94-.94-2.06-.94 2.06-2.06.94z\"/><path d=\"M17.41 7.96l-1.37-1.37c-.4-.4-.92-.59-1.43-.59-.52 0-1.04.2-1.43.59L10.3 9.45l-7.72 7.72c-.78.78-.78 2.05 0 2.83L4 21.41c.39.39.9.59 1.41.59.51 0 1.02-.2 1.41-.59l7.78-7.78 2.81-2.81c.8-.78.8-2.07 0-2.86zM5.41 20L4 18.59l7.72-7.72 1.47 1.35L5.41 20z\"/>\n",
              "  </svg>\n",
              "      </button>\n",
              "      \n",
              "  <style>\n",
              "    .colab-df-container {\n",
              "      display:flex;\n",
              "      flex-wrap:wrap;\n",
              "      gap: 12px;\n",
              "    }\n",
              "\n",
              "    .colab-df-convert {\n",
              "      background-color: #E8F0FE;\n",
              "      border: none;\n",
              "      border-radius: 50%;\n",
              "      cursor: pointer;\n",
              "      display: none;\n",
              "      fill: #1967D2;\n",
              "      height: 32px;\n",
              "      padding: 0 0 0 0;\n",
              "      width: 32px;\n",
              "    }\n",
              "\n",
              "    .colab-df-convert:hover {\n",
              "      background-color: #E2EBFA;\n",
              "      box-shadow: 0px 1px 2px rgba(60, 64, 67, 0.3), 0px 1px 3px 1px rgba(60, 64, 67, 0.15);\n",
              "      fill: #174EA6;\n",
              "    }\n",
              "\n",
              "    [theme=dark] .colab-df-convert {\n",
              "      background-color: #3B4455;\n",
              "      fill: #D2E3FC;\n",
              "    }\n",
              "\n",
              "    [theme=dark] .colab-df-convert:hover {\n",
              "      background-color: #434B5C;\n",
              "      box-shadow: 0px 1px 3px 1px rgba(0, 0, 0, 0.15);\n",
              "      filter: drop-shadow(0px 1px 2px rgba(0, 0, 0, 0.3));\n",
              "      fill: #FFFFFF;\n",
              "    }\n",
              "  </style>\n",
              "\n",
              "      <script>\n",
              "        const buttonEl =\n",
              "          document.querySelector('#df-172aa55f-ef89-4433-a7e7-7cffeed4c2a4 button.colab-df-convert');\n",
              "        buttonEl.style.display =\n",
              "          google.colab.kernel.accessAllowed ? 'block' : 'none';\n",
              "\n",
              "        async function convertToInteractive(key) {\n",
              "          const element = document.querySelector('#df-172aa55f-ef89-4433-a7e7-7cffeed4c2a4');\n",
              "          const dataTable =\n",
              "            await google.colab.kernel.invokeFunction('convertToInteractive',\n",
              "                                                     [key], {});\n",
              "          if (!dataTable) return;\n",
              "\n",
              "          const docLinkHtml = 'Like what you see? Visit the ' +\n",
              "            '<a target=\"_blank\" href=https://colab.research.google.com/notebooks/data_table.ipynb>data table notebook</a>'\n",
              "            + ' to learn more about interactive tables.';\n",
              "          element.innerHTML = '';\n",
              "          dataTable['output_type'] = 'display_data';\n",
              "          await google.colab.output.renderOutput(dataTable, element);\n",
              "          const docLink = document.createElement('div');\n",
              "          docLink.innerHTML = docLinkHtml;\n",
              "          element.appendChild(docLink);\n",
              "        }\n",
              "      </script>\n",
              "    </div>\n",
              "  </div>\n",
              "  "
            ]
          },
          "metadata": {},
          "execution_count": 5
        }
      ],
      "source": [
        "df = pd.read_excel('df_main_all_features_15feb.xlsx')   #/content/\n",
        "df = df.set_index('ID')\n",
        "df.age = df.age.fillna(df.age.mean())\n",
        "df = df.dropna()\n",
        "df.head(1)"
      ]
    },
    {
      "cell_type": "code",
      "source": [
        "df.tds.value_counts()"
      ],
      "metadata": {
        "colab": {
          "base_uri": "https://localhost:8080/"
        },
        "id": "eHrMwgD4JHBw",
        "outputId": "ee97a650-e7fd-48b8-a4e8-7d8a275e9567"
      },
      "execution_count": 6,
      "outputs": [
        {
          "output_type": "execute_result",
          "data": {
            "text/plain": [
              "0    150\n",
              "1     16\n",
              "2      3\n",
              "Name: tds, dtype: int64"
            ]
          },
          "metadata": {},
          "execution_count": 6
        }
      ]
    },
    {
      "cell_type": "code",
      "source": [
        "df[\"tds\"] = df.tds.replace({2: 1}) #there are only 3 people in class 2, so it is ok to replace 2 to 1, so that we have binary class-ion\n",
        "df.tds.value_counts()"
      ],
      "metadata": {
        "colab": {
          "base_uri": "https://localhost:8080/"
        },
        "id": "_mB9i7EYtEwW",
        "outputId": "a3361e59-8ed0-49b5-d7c5-82e11e7683b0"
      },
      "execution_count": 7,
      "outputs": [
        {
          "output_type": "execute_result",
          "data": {
            "text/plain": [
              "0    150\n",
              "1     19\n",
              "Name: tds, dtype: int64"
            ]
          },
          "metadata": {},
          "execution_count": 7
        }
      ]
    },
    {
      "cell_type": "code",
      "source": [
        "df_clean = df.drop(['age', 'education_lvl', 'education_years', 'sex', 'depression', 'chroma_cens', 'chroma_cqt', 'id', 'chroma_stft',\n",
        "    'melspectrogram', 'mfcc', 'poly_features', 'rmfourier_tempograms', 'rms', 'spectral_bandwidth', 'spectral_centroid',\n",
        "    'spectral_contrast', 'spectral_flatness', 'spectral_rolloff', 'tempogram', 'tonnetz', 'zero_crossing_rate', 'mfcc_avg',\n",
        "    'rms_avg'], axis=1)"
      ],
      "metadata": {
        "id": "Zs7lIK_0Uc0C"
      },
      "execution_count": 8,
      "outputs": []
    },
    {
      "cell_type": "code",
      "source": [
        "X = df_clean.drop(['tds'], axis=1) # Features , 'rmfourier_tempograms_avg'\n",
        "y = df.tds # Target variable"
      ],
      "metadata": {
        "id": "LjiEDOQDIjzb"
      },
      "execution_count": 9,
      "outputs": []
    },
    {
      "cell_type": "markdown",
      "source": [
        "**Logreg all features**"
      ],
      "metadata": {
        "id": "CLZWSt_6Guv2"
      }
    },
    {
      "cell_type": "code",
      "source": [
        "from sklearn.model_selection import train_test_split\n",
        "\n",
        "X_train, X_test, y_train, y_test = train_test_split(X, y, test_size=0.4, random_state=16)"
      ],
      "metadata": {
        "id": "b7cu2fBYt3i4"
      },
      "execution_count": 10,
      "outputs": []
    },
    {
      "cell_type": "code",
      "source": [
        "from sklearn.linear_model import LogisticRegression\n",
        "from sklearn.model_selection import GridSearchCV\n",
        "import warnings\n",
        "warnings.filterwarnings('ignore')\n",
        "\n",
        "parameters = {\n",
        "    'penalty' : ['l1','l2'], \n",
        "    'C'       : np.logspace(-3,3,7),\n",
        "    'solver'  : ['newton-cg', 'lbfgs', 'liblinear'],\n",
        "}\n",
        "\n",
        "logreg = LogisticRegression()\n",
        "clf = GridSearchCV(logreg,                    # model\n",
        "                   param_grid = parameters,   # hyperparameters\n",
        "                   scoring='accuracy',        # metric for scoring\n",
        "                   cv=10)  \n",
        "          \n",
        "clf.fit(X_train,y_train)\n",
        "\n",
        "print(\"Tuned Hyperparameters :\", clf.best_params_)\n",
        "print(\"Accuracy :\",clf.best_score_)"
      ],
      "metadata": {
        "colab": {
          "base_uri": "https://localhost:8080/"
        },
        "id": "z47hhNdnbmWV",
        "outputId": "8070b2b6-2380-4bc9-802d-4b300ea95118"
      },
      "execution_count": 11,
      "outputs": [
        {
          "output_type": "stream",
          "name": "stdout",
          "text": [
            "Tuned Hyperparameters : {'C': 0.001, 'penalty': 'l2', 'solver': 'liblinear'}\n",
            "Accuracy : 0.9118181818181817\n"
          ]
        }
      ]
    },
    {
      "cell_type": "code",
      "source": [
        "warnings.filterwarnings('default')"
      ],
      "metadata": {
        "id": "AO6jgvXpcHxe"
      },
      "execution_count": 12,
      "outputs": []
    },
    {
      "cell_type": "code",
      "source": [
        "logreg = LogisticRegression(solver='liblinear', max_iter=6000, penalty = 'l2', C=0.001) #, class_weight = 'balanced' 'C': 0.1,  'penalty': 'l2',  'solver': 'liblinear'\n",
        "logreg.fit(X_train, y_train)\n",
        "y_pred = logreg.predict(X_test)"
      ],
      "metadata": {
        "id": "Mg-unASFI84I"
      },
      "execution_count": 13,
      "outputs": []
    },
    {
      "cell_type": "code",
      "source": [
        "from sklearn.metrics import classification_report\n",
        "from sklearn.metrics import accuracy_score\n",
        "\n",
        "print(classification_report(y_test,y_pred))\n",
        "val_acc = accuracy_score(y_pred, y_test)\n",
        "print(val_acc)"
      ],
      "metadata": {
        "colab": {
          "base_uri": "https://localhost:8080/"
        },
        "id": "DPAgZSTpI-P2",
        "outputId": "f25c44b2-6595-41ce-963c-3e9a2e3350ac"
      },
      "execution_count": 14,
      "outputs": [
        {
          "output_type": "stream",
          "name": "stdout",
          "text": [
            "              precision    recall  f1-score   support\n",
            "\n",
            "           0       0.95      0.97      0.96        60\n",
            "           1       0.71      0.62      0.67         8\n",
            "\n",
            "    accuracy                           0.93        68\n",
            "   macro avg       0.83      0.80      0.81        68\n",
            "weighted avg       0.92      0.93      0.92        68\n",
            "\n",
            "0.9264705882352942\n"
          ]
        }
      ]
    },
    {
      "cell_type": "code",
      "source": [
        "from sklearn.model_selection import cross_val_score\n",
        "from sklearn.model_selection import cross_validate\n",
        "from sklearn.metrics import recall_score\n",
        "scoring = ['recall', 'accuracy', 'f1']\n",
        "scores = cross_validate(logreg, X, y, scoring=scoring)\n",
        "scores"
      ],
      "metadata": {
        "colab": {
          "base_uri": "https://localhost:8080/"
        },
        "id": "AVzL9hxpre1r",
        "outputId": "68e96ad1-05e1-4b08-8986-5f8cab30e997"
      },
      "execution_count": 15,
      "outputs": [
        {
          "output_type": "execute_result",
          "data": {
            "text/plain": [
              "{'fit_time': array([0.05491948, 0.02584767, 0.01890612, 0.00973201, 0.00825024]),\n",
              " 'score_time': array([0.01806378, 0.01012063, 0.00650477, 0.00608349, 0.00595522]),\n",
              " 'test_recall': array([0.25      , 0.5       , 0.75      , 0.5       , 0.33333333]),\n",
              " 'test_accuracy': array([0.91176471, 0.79411765, 0.88235294, 0.94117647, 0.84848485]),\n",
              " 'test_f1': array([0.4       , 0.36363636, 0.6       , 0.66666667, 0.28571429])}"
            ]
          },
          "metadata": {},
          "execution_count": 15
        }
      ]
    },
    {
      "cell_type": "code",
      "source": [
        "import matplotlib.pyplot as plt\n",
        "\n",
        "coefs = pd.DataFrame(\n",
        "   logreg.coef_.T,\n",
        "   columns=['Coefficients'], index=X_train.columns\n",
        ")\n",
        "\n",
        "coefs.plot(kind='barh', figsize=(9, 17))\n",
        "plt.title('Ridge model')\n",
        "plt.axvline(x=0, color='.5')\n",
        "plt.subplots_adjust(left=.3)"
      ],
      "metadata": {
        "colab": {
          "base_uri": "https://localhost:8080/",
          "height": 988
        },
        "id": "w9pglwnVRfdO",
        "outputId": "ad4ff728-6d7e-473d-c326-32bffa6851b4"
      },
      "execution_count": 18,
      "outputs": [
        {
          "output_type": "display_data",
          "data": {
            "text/plain": [
              "<Figure size 648x1224 with 1 Axes>"
            ],
            "image/png": "[encoded data removed]"
          },
          "metadata": {
            "needs_background": "light"
          }
        }
      ]
    },
    {
      "cell_type": "code",
      "source": [
        "coefs.apply(lambda x: abs(x)).sort_values(by='Coefficients', ascending=False).head(11)"
      ],
      "metadata": {
        "colab": {
          "base_uri": "https://localhost:8080/",
          "height": 394
        },
        "id": "Z8GQysbuRl5p",
        "outputId": "97374164-2587-4fa8-b6b6-eaf11d361fee"
      },
      "execution_count": 19,
      "outputs": [
        {
          "output_type": "execute_result",
          "data": {
            "text/plain": [
              "                        Coefficients\n",
              "melspectrogram_std          0.029543\n",
              "spectral_centroid_avg       0.028086\n",
              "spectral_centroid_std       0.027957\n",
              "spectral_rolloff_std        0.013175\n",
              "spectral_bandwidth_avg      0.012694\n",
              "mfcc_min                    0.010912\n",
              "mfcc_std                    0.010132\n",
              "spectral_rolloff_min        0.009543\n",
              "spectral_bandwidth_std      0.006701\n",
              "spectral_contrast_max       0.005149\n",
              "mfcc_max                    0.004735"
            ],
            "text/html": [
              "\n",
              "  <div id=\"df-a1bbe809-c173-4037-b757-53f5674bd728\">\n",
              "    <div class=\"colab-df-container\">\n",
              "      <div>\n",
              "<style scoped>\n",
              "    .dataframe tbody tr th:only-of-type {\n",
              "        vertical-align: middle;\n",
              "    }\n",
              "\n",
              "    .dataframe tbody tr th {\n",
              "        vertical-align: top;\n",
              "    }\n",
              "\n",
              "    .dataframe thead th {\n",
              "        text-align: right;\n",
              "    }\n",
              "</style>\n",
              "<table border=\"1\" class=\"dataframe\">\n",
              "  <thead>\n",
              "    <tr style=\"text-align: right;\">\n",
              "      <th></th>\n",
              "      <th>Coefficients</th>\n",
              "    </tr>\n",
              "  </thead>\n",
              "  <tbody>\n",
              "    <tr>\n",
              "      <th>melspectrogram_std</th>\n",
              "      <td>0.029543</td>\n",
              "    </tr>\n",
              "    <tr>\n",
              "      <th>spectral_centroid_avg</th>\n",
              "      <td>0.028086</td>\n",
              "    </tr>\n",
              "    <tr>\n",
              "      <th>spectral_centroid_std</th>\n",
              "      <td>0.027957</td>\n",
              "    </tr>\n",
              "    <tr>\n",
              "      <th>spectral_rolloff_std</th>\n",
              "      <td>0.013175</td>\n",
              "    </tr>\n",
              "    <tr>\n",
              "      <th>spectral_bandwidth_avg</th>\n",
              "      <td>0.012694</td>\n",
              "    </tr>\n",
              "    <tr>\n",
              "      <th>mfcc_min</th>\n",
              "      <td>0.010912</td>\n",
              "    </tr>\n",
              "    <tr>\n",
              "      <th>mfcc_std</th>\n",
              "      <td>0.010132</td>\n",
              "    </tr>\n",
              "    <tr>\n",
              "      <th>spectral_rolloff_min</th>\n",
              "      <td>0.009543</td>\n",
              "    </tr>\n",
              "    <tr>\n",
              "      <th>spectral_bandwidth_std</th>\n",
              "      <td>0.006701</td>\n",
              "    </tr>\n",
              "    <tr>\n",
              "      <th>spectral_contrast_max</th>\n",
              "      <td>0.005149</td>\n",
              "    </tr>\n",
              "    <tr>\n",
              "      <th>mfcc_max</th>\n",
              "      <td>0.004735</td>\n",
              "    </tr>\n",
              "  </tbody>\n",
              "</table>\n",
              "</div>\n",
              "      <button class=\"colab-df-convert\" onclick=\"convertToInteractive('df-a1bbe809-c173-4037-b757-53f5674bd728')\"\n",
              "              title=\"Convert this dataframe to an interactive table.\"\n",
              "              style=\"display:none;\">\n",
              "        \n",
              "  <svg xmlns=\"http://www.w3.org/2000/svg\" height=\"24px\"viewBox=\"0 0 24 24\"\n",
              "       width=\"24px\">\n",
              "    <path d=\"M0 0h24v24H0V0z\" fill=\"none\"/>\n",
              "    <path d=\"M18.56 5.44l.94 2.06.94-2.06 2.06-.94-2.06-.94-.94-2.06-.94 2.06-2.06.94zm-11 1L8.5 8.5l.94-2.06 2.06-.94-2.06-.94L8.5 2.5l-.94 2.06-2.06.94zm10 10l.94 2.06.94-2.06 2.06-.94-2.06-.94-.94-2.06-.94 2.06-2.06.94z\"/><path d=\"M17.41 7.96l-1.37-1.37c-.4-.4-.92-.59-1.43-.59-.52 0-1.04.2-1.43.59L10.3 9.45l-7.72 7.72c-.78.78-.78 2.05 0 2.83L4 21.41c.39.39.9.59 1.41.59.51 0 1.02-.2 1.41-.59l7.78-7.78 2.81-2.81c.8-.78.8-2.07 0-2.86zM5.41 20L4 18.59l7.72-7.72 1.47 1.35L5.41 20z\"/>\n",
              "  </svg>\n",
              "      </button>\n",
              "      \n",
              "  <style>\n",
              "    .colab-df-container {\n",
              "      display:flex;\n",
              "      flex-wrap:wrap;\n",
              "      gap: 12px;\n",
              "    }\n",
              "\n",
              "    .colab-df-convert {\n",
              "      background-color: #E8F0FE;\n",
              "      border: none;\n",
              "      border-radius: 50%;\n",
              "      cursor: pointer;\n",
              "      display: none;\n",
              "      fill: #1967D2;\n",
              "      height: 32px;\n",
              "      padding: 0 0 0 0;\n",
              "      width: 32px;\n",
              "    }\n",
              "\n",
              "    .colab-df-convert:hover {\n",
              "      background-color: #E2EBFA;\n",
              "      box-shadow: 0px 1px 2px rgba(60, 64, 67, 0.3), 0px 1px 3px 1px rgba(60, 64, 67, 0.15);\n",
              "      fill: #174EA6;\n",
              "    }\n",
              "\n",
              "    [theme=dark] .colab-df-convert {\n",
              "      background-color: #3B4455;\n",
              "      fill: #D2E3FC;\n",
              "    }\n",
              "\n",
              "    [theme=dark] .colab-df-convert:hover {\n",
              "      background-color: #434B5C;\n",
              "      box-shadow: 0px 1px 3px 1px rgba(0, 0, 0, 0.15);\n",
              "      filter: drop-shadow(0px 1px 2px rgba(0, 0, 0, 0.3));\n",
              "      fill: #FFFFFF;\n",
              "    }\n",
              "  </style>\n",
              "\n",
              "      <script>\n",
              "        const buttonEl =\n",
              "          document.querySelector('#df-a1bbe809-c173-4037-b757-53f5674bd728 button.colab-df-convert');\n",
              "        buttonEl.style.display =\n",
              "          google.colab.kernel.accessAllowed ? 'block' : 'none';\n",
              "\n",
              "        async function convertToInteractive(key) {\n",
              "          const element = document.querySelector('#df-a1bbe809-c173-4037-b757-53f5674bd728');\n",
              "          const dataTable =\n",
              "            await google.colab.kernel.invokeFunction('convertToInteractive',\n",
              "                                                     [key], {});\n",
              "          if (!dataTable) return;\n",
              "\n",
              "          const docLinkHtml = 'Like what you see? Visit the ' +\n",
              "            '<a target=\"_blank\" href=https://colab.research.google.com/notebooks/data_table.ipynb>data table notebook</a>'\n",
              "            + ' to learn more about interactive tables.';\n",
              "          element.innerHTML = '';\n",
              "          dataTable['output_type'] = 'display_data';\n",
              "          await google.colab.output.renderOutput(dataTable, element);\n",
              "          const docLink = document.createElement('div');\n",
              "          docLink.innerHTML = docLinkHtml;\n",
              "          element.appendChild(docLink);\n",
              "        }\n",
              "      </script>\n",
              "    </div>\n",
              "  </div>\n",
              "  "
            ]
          },
          "metadata": {},
          "execution_count": 19
        }
      ]
    },
    {
      "cell_type": "markdown",
      "source": [
        "**Random forest all features**"
      ],
      "metadata": {
        "id": "u6ish8QWGwUq"
      }
    },
    {
      "cell_type": "code",
      "source": [
        "from skopt import BayesSearchCV\n",
        "from sklearn.datasets import load_digits\n",
        "from sklearn.ensemble import RandomForestClassifier\n",
        "\n",
        "warnings.filterwarnings('ignore')\n",
        "\n",
        "opt = BayesSearchCV(\n",
        "    RandomForestClassifier(),\n",
        "    {\n",
        "        'n_estimators':  (100, 1000),\n",
        "        'max_depth': (10, 100)\n",
        "    },\n",
        "    n_iter=32,\n",
        "    cv=3\n",
        ")\n",
        "\n",
        "opt.fit(X_train, y_train)\n",
        "\n",
        "print(\"val. score: %s\" % opt.best_score_)\n",
        "print(\"test score: %s\" % opt.score(X_test, y_test))\n",
        "print(\"best_params: %s\" % opt.best_params_)"
      ],
      "metadata": {
        "colab": {
          "base_uri": "https://localhost:8080/"
        },
        "id": "LU1QM1UuxYgC",
        "outputId": "5855ce0e-e273-4f4e-d338-ca59eb772eb1"
      },
      "execution_count": 20,
      "outputs": [
        {
          "output_type": "stream",
          "name": "stdout",
          "text": [
            "val. score: 0.9212715389185977\n",
            "test score: 0.9117647058823529\n",
            "best_params: OrderedDict([('max_depth', 62), ('n_estimators', 103)])\n"
          ]
        }
      ]
    },
    {
      "cell_type": "code",
      "source": [
        "opt.best_params_"
      ],
      "metadata": {
        "colab": {
          "base_uri": "https://localhost:8080/"
        },
        "id": "H6HTGZh5zE9b",
        "outputId": "cf1b555e-b03d-494b-a172-f889115e7b24"
      },
      "execution_count": 21,
      "outputs": [
        {
          "output_type": "execute_result",
          "data": {
            "text/plain": [
              "OrderedDict([('max_depth', 62), ('n_estimators', 103)])"
            ]
          },
          "metadata": {},
          "execution_count": 21
        }
      ]
    },
    {
      "cell_type": "code",
      "source": [
        "from sklearn.ensemble import RandomForestClassifier\n",
        "rfc = RandomForestClassifier(n_estimators=103, \n",
        "                           #  class_weight = \"balanced\",\n",
        "                             max_depth = 62)\n",
        "rfc.fit(X_train, y_train)\n",
        "y_pred = rfc.predict(X_test)\n",
        "print(classification_report(y_test,y_pred))"
      ],
      "metadata": {
        "id": "XUj2m3LRI_za",
        "colab": {
          "base_uri": "https://localhost:8080/"
        },
        "outputId": "e3646e1e-cf03-4148-93a1-af16bc90eb23"
      },
      "execution_count": 30,
      "outputs": [
        {
          "output_type": "stream",
          "name": "stdout",
          "text": [
            "              precision    recall  f1-score   support\n",
            "\n",
            "           0       0.90      1.00      0.94        60\n",
            "           1       1.00      0.12      0.22         8\n",
            "\n",
            "    accuracy                           0.90        68\n",
            "   macro avg       0.95      0.56      0.58        68\n",
            "weighted avg       0.91      0.90      0.86        68\n",
            "\n"
          ]
        }
      ]
    },
    {
      "cell_type": "code",
      "source": [
        "cross_validate(rfc, X, y, scoring=scoring)"
      ],
      "metadata": {
        "colab": {
          "base_uri": "https://localhost:8080/"
        },
        "id": "ad7-Gf2Eu57H",
        "outputId": "96ba27be-7bca-4b57-f00b-82f0b674c26b"
      },
      "execution_count": 31,
      "outputs": [
        {
          "output_type": "execute_result",
          "data": {
            "text/plain": [
              "{'fit_time': array([0.15768147, 0.14282417, 0.14810586, 0.1524806 , 0.1494081 ]),\n",
              " 'score_time': array([0.01328158, 0.01840568, 0.01299787, 0.02661014, 0.01310039]),\n",
              " 'test_recall': array([0.        , 0.        , 0.5       , 0.5       , 0.33333333]),\n",
              " 'test_accuracy': array([0.88235294, 0.88235294, 0.94117647, 0.94117647, 0.78787879]),\n",
              " 'test_f1': array([0.        , 0.        , 0.66666667, 0.66666667, 0.22222222])}"
            ]
          },
          "metadata": {},
          "execution_count": 31
        }
      ]
    },
    {
      "cell_type": "code",
      "source": [
        "import matplotlib.pyplot as plt\n",
        "\n",
        "coefs = pd.DataFrame(\n",
        "   rfc.coef_.T,\n",
        "   columns=['Coefficients'], index=X_train.columns\n",
        ")\n",
        "\n",
        "coefs.plot(kind='barh', figsize=(9, 15))\n",
        "plt.title('Ridge model')\n",
        "plt.axvline(x=0, color='.5')\n",
        "plt.subplots_adjust(left=.3)"
      ],
      "metadata": {
        "colab": {
          "base_uri": "https://localhost:8080/",
          "height": 234
        },
        "id": "t7ssMo3NRvAI",
        "outputId": "4652b458-f70f-4ec1-ef18-35eb82f71b52"
      },
      "execution_count": 32,
      "outputs": [
        {
          "output_type": "error",
          "ename": "AttributeError",
          "evalue": "ignored",
          "traceback": [
            "\u001b[0;31m---------------------------------------------------------------------------\u001b[0m",
            "\u001b[0;31mAttributeError\u001b[0m                            Traceback (most recent call last)",
            "\u001b[0;32m<ipython-input-32-7aba0ad01d88>\u001b[0m in \u001b[0;36m<module>\u001b[0;34m\u001b[0m\n\u001b[1;32m      2\u001b[0m \u001b[0;34m\u001b[0m\u001b[0m\n\u001b[1;32m      3\u001b[0m coefs = pd.DataFrame(\n\u001b[0;32m----> 4\u001b[0;31m    \u001b[0mrfc\u001b[0m\u001b[0;34m.\u001b[0m\u001b[0mcoef_\u001b[0m\u001b[0;34m.\u001b[0m\u001b[0mT\u001b[0m\u001b[0;34m,\u001b[0m\u001b[0;34m\u001b[0m\u001b[0;34m\u001b[0m\u001b[0m\n\u001b[0m\u001b[1;32m      5\u001b[0m    \u001b[0mcolumns\u001b[0m\u001b[0;34m=\u001b[0m\u001b[0;34m[\u001b[0m\u001b[0;34m'Coefficients'\u001b[0m\u001b[0;34m]\u001b[0m\u001b[0;34m,\u001b[0m \u001b[0mindex\u001b[0m\u001b[0;34m=\u001b[0m\u001b[0mX_train\u001b[0m\u001b[0;34m.\u001b[0m\u001b[0mcolumns\u001b[0m\u001b[0;34m\u001b[0m\u001b[0;34m\u001b[0m\u001b[0m\n\u001b[1;32m      6\u001b[0m )\n",
            "\u001b[0;31mAttributeError\u001b[0m: 'RandomForestClassifier' object has no attribute 'coef_'"
          ]
        }
      ]
    },
    {
      "cell_type": "code",
      "source": [
        "coefs.apply(lambda x: abs(x)).sort_values(by='Coefficients', ascending=False).head(11)"
      ],
      "metadata": {
        "colab": {
          "base_uri": "https://localhost:8080/",
          "height": 394
        },
        "id": "V7bPRMKIR1Pd",
        "outputId": "1e257409-1ba8-431f-d75f-98d97129748d"
      },
      "execution_count": 33,
      "outputs": [
        {
          "output_type": "execute_result",
          "data": {
            "text/plain": [
              "                        Coefficients\n",
              "melspectrogram_std          0.029543\n",
              "spectral_centroid_avg       0.028086\n",
              "spectral_centroid_std       0.027957\n",
              "spectral_rolloff_std        0.013175\n",
              "spectral_bandwidth_avg      0.012694\n",
              "mfcc_min                    0.010912\n",
              "mfcc_std                    0.010132\n",
              "spectral_rolloff_min        0.009543\n",
              "spectral_bandwidth_std      0.006701\n",
              "spectral_contrast_max       0.005149\n",
              "mfcc_max                    0.004735"
            ],
            "text/html": [
              "\n",
              "  <div id=\"df-9e6321ab-0b40-46b5-a305-b7edf2381c22\">\n",
              "    <div class=\"colab-df-container\">\n",
              "      <div>\n",
              "<style scoped>\n",
              "    .dataframe tbody tr th:only-of-type {\n",
              "        vertical-align: middle;\n",
              "    }\n",
              "\n",
              "    .dataframe tbody tr th {\n",
              "        vertical-align: top;\n",
              "    }\n",
              "\n",
              "    .dataframe thead th {\n",
              "        text-align: right;\n",
              "    }\n",
              "</style>\n",
              "<table border=\"1\" class=\"dataframe\">\n",
              "  <thead>\n",
              "    <tr style=\"text-align: right;\">\n",
              "      <th></th>\n",
              "      <th>Coefficients</th>\n",
              "    </tr>\n",
              "  </thead>\n",
              "  <tbody>\n",
              "    <tr>\n",
              "      <th>melspectrogram_std</th>\n",
              "      <td>0.029543</td>\n",
              "    </tr>\n",
              "    <tr>\n",
              "      <th>spectral_centroid_avg</th>\n",
              "      <td>0.028086</td>\n",
              "    </tr>\n",
              "    <tr>\n",
              "      <th>spectral_centroid_std</th>\n",
              "      <td>0.027957</td>\n",
              "    </tr>\n",
              "    <tr>\n",
              "      <th>spectral_rolloff_std</th>\n",
              "      <td>0.013175</td>\n",
              "    </tr>\n",
              "    <tr>\n",
              "      <th>spectral_bandwidth_avg</th>\n",
              "      <td>0.012694</td>\n",
              "    </tr>\n",
              "    <tr>\n",
              "      <th>mfcc_min</th>\n",
              "      <td>0.010912</td>\n",
              "    </tr>\n",
              "    <tr>\n",
              "      <th>mfcc_std</th>\n",
              "      <td>0.010132</td>\n",
              "    </tr>\n",
              "    <tr>\n",
              "      <th>spectral_rolloff_min</th>\n",
              "      <td>0.009543</td>\n",
              "    </tr>\n",
              "    <tr>\n",
              "      <th>spectral_bandwidth_std</th>\n",
              "      <td>0.006701</td>\n",
              "    </tr>\n",
              "    <tr>\n",
              "      <th>spectral_contrast_max</th>\n",
              "      <td>0.005149</td>\n",
              "    </tr>\n",
              "    <tr>\n",
              "      <th>mfcc_max</th>\n",
              "      <td>0.004735</td>\n",
              "    </tr>\n",
              "  </tbody>\n",
              "</table>\n",
              "</div>\n",
              "      <button class=\"colab-df-convert\" onclick=\"convertToInteractive('df-9e6321ab-0b40-46b5-a305-b7edf2381c22')\"\n",
              "              title=\"Convert this dataframe to an interactive table.\"\n",
              "              style=\"display:none;\">\n",
              "        \n",
              "  <svg xmlns=\"http://www.w3.org/2000/svg\" height=\"24px\"viewBox=\"0 0 24 24\"\n",
              "       width=\"24px\">\n",
              "    <path d=\"M0 0h24v24H0V0z\" fill=\"none\"/>\n",
              "    <path d=\"M18.56 5.44l.94 2.06.94-2.06 2.06-.94-2.06-.94-.94-2.06-.94 2.06-2.06.94zm-11 1L8.5 8.5l.94-2.06 2.06-.94-2.06-.94L8.5 2.5l-.94 2.06-2.06.94zm10 10l.94 2.06.94-2.06 2.06-.94-2.06-.94-.94-2.06-.94 2.06-2.06.94z\"/><path d=\"M17.41 7.96l-1.37-1.37c-.4-.4-.92-.59-1.43-.59-.52 0-1.04.2-1.43.59L10.3 9.45l-7.72 7.72c-.78.78-.78 2.05 0 2.83L4 21.41c.39.39.9.59 1.41.59.51 0 1.02-.2 1.41-.59l7.78-7.78 2.81-2.81c.8-.78.8-2.07 0-2.86zM5.41 20L4 18.59l7.72-7.72 1.47 1.35L5.41 20z\"/>\n",
              "  </svg>\n",
              "      </button>\n",
              "      \n",
              "  <style>\n",
              "    .colab-df-container {\n",
              "      display:flex;\n",
              "      flex-wrap:wrap;\n",
              "      gap: 12px;\n",
              "    }\n",
              "\n",
              "    .colab-df-convert {\n",
              "      background-color: #E8F0FE;\n",
              "      border: none;\n",
              "      border-radius: 50%;\n",
              "      cursor: pointer;\n",
              "      display: none;\n",
              "      fill: #1967D2;\n",
              "      height: 32px;\n",
              "      padding: 0 0 0 0;\n",
              "      width: 32px;\n",
              "    }\n",
              "\n",
              "    .colab-df-convert:hover {\n",
              "      background-color: #E2EBFA;\n",
              "      box-shadow: 0px 1px 2px rgba(60, 64, 67, 0.3), 0px 1px 3px 1px rgba(60, 64, 67, 0.15);\n",
              "      fill: #174EA6;\n",
              "    }\n",
              "\n",
              "    [theme=dark] .colab-df-convert {\n",
              "      background-color: #3B4455;\n",
              "      fill: #D2E3FC;\n",
              "    }\n",
              "\n",
              "    [theme=dark] .colab-df-convert:hover {\n",
              "      background-color: #434B5C;\n",
              "      box-shadow: 0px 1px 3px 1px rgba(0, 0, 0, 0.15);\n",
              "      filter: drop-shadow(0px 1px 2px rgba(0, 0, 0, 0.3));\n",
              "      fill: #FFFFFF;\n",
              "    }\n",
              "  </style>\n",
              "\n",
              "      <script>\n",
              "        const buttonEl =\n",
              "          document.querySelector('#df-9e6321ab-0b40-46b5-a305-b7edf2381c22 button.colab-df-convert');\n",
              "        buttonEl.style.display =\n",
              "          google.colab.kernel.accessAllowed ? 'block' : 'none';\n",
              "\n",
              "        async function convertToInteractive(key) {\n",
              "          const element = document.querySelector('#df-9e6321ab-0b40-46b5-a305-b7edf2381c22');\n",
              "          const dataTable =\n",
              "            await google.colab.kernel.invokeFunction('convertToInteractive',\n",
              "                                                     [key], {});\n",
              "          if (!dataTable) return;\n",
              "\n",
              "          const docLinkHtml = 'Like what you see? Visit the ' +\n",
              "            '<a target=\"_blank\" href=https://colab.research.google.com/notebooks/data_table.ipynb>data table notebook</a>'\n",
              "            + ' to learn more about interactive tables.';\n",
              "          element.innerHTML = '';\n",
              "          dataTable['output_type'] = 'display_data';\n",
              "          await google.colab.output.renderOutput(dataTable, element);\n",
              "          const docLink = document.createElement('div');\n",
              "          docLink.innerHTML = docLinkHtml;\n",
              "          element.appendChild(docLink);\n",
              "        }\n",
              "      </script>\n",
              "    </div>\n",
              "  </div>\n",
              "  "
            ]
          },
          "metadata": {},
          "execution_count": 33
        }
      ]
    },
    {
      "cell_type": "markdown",
      "source": [
        "**Support Vector Machine all features**"
      ],
      "metadata": {
        "id": "Gg9iluP1KHYD"
      }
    },
    {
      "cell_type": "code",
      "source": [
        "from skopt import BayesSearchCV\n",
        "from sklearn.datasets import load_digits\n",
        "from sklearn.svm import SVC\n",
        "from sklearn.model_selection import train_test_split\n",
        "\n",
        "#https://scikit-optimize.github.io/stable/auto_examples/sklearn-gridsearchcv-replacement.html\n",
        "opt = BayesSearchCV(\n",
        "    SVC(),\n",
        "    {\n",
        "        'C': (1e-6, 1e+6, 'log-uniform'),\n",
        "        'gamma': (1e-6, 1e+1, 'log-uniform'),\n",
        "        'degree': (1, 8), \n",
        "        'kernel': ['linear', 'poly', 'rbf'], \n",
        "    },\n",
        "    n_iter=32,\n",
        "    cv=3\n",
        ")\n",
        "\n",
        "opt.fit(X_train, y_train)\n",
        "\n",
        "print(\"val. score: %s\" % opt.best_score_)\n",
        "print(\"test score: %s\" % opt.score(X_test, y_test))"
      ],
      "metadata": {
        "colab": {
          "base_uri": "https://localhost:8080/"
        },
        "id": "bfyyB2tOWQr8",
        "outputId": "a0087dbb-ced3-4fff-c9d7-db6b18368835"
      },
      "execution_count": 22,
      "outputs": [
        {
          "output_type": "stream",
          "name": "stdout",
          "text": [
            "val. score: 0.8912655971479501\n",
            "test score: 0.8823529411764706\n"
          ]
        }
      ]
    },
    {
      "cell_type": "code",
      "source": [
        "opt.best_params_"
      ],
      "metadata": {
        "colab": {
          "base_uri": "https://localhost:8080/"
        },
        "id": "SCsmFC95Xj7q",
        "outputId": "e2ad7499-813a-4c90-8db0-f59b11061009"
      },
      "execution_count": 23,
      "outputs": [
        {
          "output_type": "execute_result",
          "data": {
            "text/plain": [
              "OrderedDict([('C', 0.009567319418667387),\n",
              "             ('degree', 8),\n",
              "             ('gamma', 5.278157555698932e-05),\n",
              "             ('kernel', 'rbf')])"
            ]
          },
          "metadata": {},
          "execution_count": 23
        }
      ]
    },
    {
      "cell_type": "code",
      "source": [
        "from sklearn import svm\n",
        "\n",
        "clf = svm.SVC(C =0.009567319418667387, degree = 8, gamma = 5.278157555698932e-05, kernel = 'rbf')\n",
        "clf.fit(X_train, y_train)\n",
        "y_pred = clf.predict(X_test)"
      ],
      "metadata": {
        "id": "ZjrvuYxTG5aU"
      },
      "execution_count": 34,
      "outputs": []
    },
    {
      "cell_type": "code",
      "source": [
        "print(classification_report(y_test,y_pred))\n",
        "val_acc = accuracy_score(y_pred, y_test)\n",
        "print(val_acc)"
      ],
      "metadata": {
        "colab": {
          "base_uri": "https://localhost:8080/"
        },
        "id": "nFgzyhM1MS0z",
        "outputId": "604abc6d-4e57-45c6-bceb-a6b13a85cd43"
      },
      "execution_count": 35,
      "outputs": [
        {
          "output_type": "stream",
          "name": "stdout",
          "text": [
            "              precision    recall  f1-score   support\n",
            "\n",
            "           0       0.88      1.00      0.94        60\n",
            "           1       0.00      0.00      0.00         8\n",
            "\n",
            "    accuracy                           0.88        68\n",
            "   macro avg       0.44      0.50      0.47        68\n",
            "weighted avg       0.78      0.88      0.83        68\n",
            "\n",
            "0.8823529411764706\n"
          ]
        }
      ]
    },
    {
      "cell_type": "markdown",
      "source": [
        "horrible =("
      ],
      "metadata": {
        "id": "y08bliJgV6Kn"
      }
    },
    {
      "cell_type": "code",
      "source": [
        "cross_validate(clf, X, y, scoring=scoring)"
      ],
      "metadata": {
        "colab": {
          "base_uri": "https://localhost:8080/"
        },
        "id": "TtQnVi0kvoUJ",
        "outputId": "a18551a9-72fe-4d4c-8725-1795c18aca3e"
      },
      "execution_count": null,
      "outputs": [
        {
          "output_type": "execute_result",
          "data": {
            "text/plain": [
              "{'fit_time': array([0.01100612, 0.00541711, 0.00971198, 0.00591397, 0.01035476]),\n",
              " 'score_time': array([0.00421715, 0.00383258, 0.00329614, 0.00416565, 0.00350761]),\n",
              " 'test_recall': array([0.  , 0.  , 0.75, 0.25, 0.  ]),\n",
              " 'test_accuracy': array([0.88235294, 0.88235294, 0.94117647, 0.91176471, 0.90909091]),\n",
              " 'test_f1': array([0.  , 0.  , 0.75, 0.4 , 0.  ])}"
            ]
          },
          "metadata": {},
          "execution_count": 35
        }
      ]
    },
    {
      "cell_type": "markdown",
      "source": [
        "**MLP all features**"
      ],
      "metadata": {
        "id": "xryQ6g-xKILZ"
      }
    },
    {
      "cell_type": "code",
      "source": [
        "from sklearn.datasets import load_iris\n",
        "from sklearn.neural_network import MLPClassifier\n",
        "from sklearn.preprocessing import StandardScaler\n",
        "import pandas as pd\n",
        "from sklearn.metrics import plot_confusion_matrix\n",
        "import matplotlib.pyplot as plt"
      ],
      "metadata": {
        "id": "kbHTQJ_uMdcb"
      },
      "execution_count": 24,
      "outputs": []
    },
    {
      "cell_type": "code",
      "source": [
        "sc_X = StandardScaler()\n",
        "X_trainscaled=sc_X.fit_transform(X_train)\n",
        "X_testscaled=sc_X.transform(X_test)"
      ],
      "metadata": {
        "id": "L4BigzrmMdRL"
      },
      "execution_count": 25,
      "outputs": []
    },
    {
      "cell_type": "code",
      "source": [
        "from skopt import BayesSearchCV\n",
        "from sklearn.datasets import load_digits\n",
        "\n",
        "#https://scikit-optimize.github.io/stable/auto_examples/sklearn-gridsearchcv-replacement.html\n",
        "opt = BayesSearchCV(\n",
        "    MLPClassifier(),\n",
        "    {\n",
        "        'activation': ['identity', 'logistic', 'tanh', 'relu'],\n",
        "        'random_state': [1, 2, 3],\n",
        "    },\n",
        "    n_iter=32,\n",
        "    cv=3\n",
        ")\n",
        "\n",
        "opt.fit(X_trainscaled, y_train)\n",
        "\n",
        "print(\"val. score: %s\" % opt.best_score_)\n",
        "print(\"test score: %s\" % opt.score(X_testscaled, y_test))"
      ],
      "metadata": {
        "colab": {
          "base_uri": "https://localhost:8080/"
        },
        "id": "LiGTGQn7hz_5",
        "outputId": "64685391-273d-471a-b84b-765f65f52f96"
      },
      "execution_count": 26,
      "outputs": [
        {
          "output_type": "stream",
          "name": "stdout",
          "text": [
            "val. score: 0.9114676173499703\n",
            "test score: 0.8823529411764706\n"
          ]
        }
      ]
    },
    {
      "cell_type": "code",
      "source": [
        "opt.best_params_"
      ],
      "metadata": {
        "colab": {
          "base_uri": "https://localhost:8080/"
        },
        "id": "vTdcYPqtmWGk",
        "outputId": "523f8401-36c6-4e37-e415-ef0d4081910f"
      },
      "execution_count": 27,
      "outputs": [
        {
          "output_type": "execute_result",
          "data": {
            "text/plain": [
              "OrderedDict([('activation', 'relu'), ('random_state', 2)])"
            ]
          },
          "metadata": {},
          "execution_count": 27
        }
      ]
    },
    {
      "cell_type": "code",
      "source": [
        "clf = MLPClassifier(hidden_layer_sizes=(256,128,64,32),activation=\"relu\",random_state=2).fit(X_trainscaled, y_train)\n",
        "y_pred=clf.predict(X_testscaled)\n",
        "print(clf.score(X_testscaled, y_test))"
      ],
      "metadata": {
        "colab": {
          "base_uri": "https://localhost:8080/"
        },
        "id": "dfozD1UWMsmJ",
        "outputId": "c2260384-a426-46da-ac46-3c15efb68e24"
      },
      "execution_count": 36,
      "outputs": [
        {
          "output_type": "stream",
          "name": "stdout",
          "text": [
            "0.8970588235294118\n"
          ]
        }
      ]
    },
    {
      "cell_type": "code",
      "source": [
        "print(classification_report(y_test,y_pred))\n",
        "val_acc = accuracy_score(y_pred, y_test)\n",
        "print(val_acc)"
      ],
      "metadata": {
        "colab": {
          "base_uri": "https://localhost:8080/"
        },
        "id": "xoUhuoYQM01Z",
        "outputId": "c663b58f-c5c4-43c5-df4a-9f1e43ed09b6"
      },
      "execution_count": 37,
      "outputs": [
        {
          "output_type": "stream",
          "name": "stdout",
          "text": [
            "              precision    recall  f1-score   support\n",
            "\n",
            "           0       0.92      0.97      0.94        60\n",
            "           1       0.60      0.38      0.46         8\n",
            "\n",
            "    accuracy                           0.90        68\n",
            "   macro avg       0.76      0.67      0.70        68\n",
            "weighted avg       0.88      0.90      0.89        68\n",
            "\n",
            "0.8970588235294118\n"
          ]
        }
      ]
    },
    {
      "cell_type": "code",
      "source": [],
      "metadata": {
        "id": "GOT5isHVNehR"
      },
      "execution_count": null,
      "outputs": []
    },
    {
      "cell_type": "code",
      "source": [],
      "metadata": {
        "id": "WskOBtuQmeoi"
      },
      "execution_count": null,
      "outputs": []
    },
    {
      "cell_type": "code",
      "source": [],
      "metadata": {
        "id": "oM1AV1idmel8"
      },
      "execution_count": null,
      "outputs": []
    },
    {
      "cell_type": "markdown",
      "source": [
        "**Lets clean our feature-list according to the chart**"
      ],
      "metadata": {
        "id": "qnzY2tX7mb-5"
      }
    },
    {
      "cell_type": "code",
      "source": [
        "import matplotlib.pyplot as plt\n",
        "\n",
        "coefs = pd.DataFrame(\n",
        "   logreg.coef_.T,\n",
        "   columns=['Coefficients'], index=X_train.columns\n",
        ")\n",
        "\n",
        "coefs.plot(kind='barh', figsize=(9, 7))\n",
        "plt.title('Ridge model')\n",
        "plt.axvline(x=0, color='.5')\n",
        "plt.subplots_adjust(left=.3)"
      ],
      "metadata": {
        "colab": {
          "base_uri": "https://localhost:8080/",
          "height": 444
        },
        "id": "lKP1F4JeG5cj",
        "outputId": "56e26322-7be6-4224-92ca-994f042ef25b"
      },
      "execution_count": null,
      "outputs": [
        {
          "output_type": "display_data",
          "data": {
            "text/plain": [
              "<Figure size 648x504 with 1 Axes>"
            ],
            "image/png": "[encoded data removed]"
          },
          "metadata": {
            "needs_background": "light"
          }
        }
      ]
    },
    {
      "cell_type": "code",
      "source": [
        "coefs.apply(lambda x: abs(x)).sort_values(by='Coefficients', ascending=False).head(11)"
      ],
      "metadata": {
        "colab": {
          "base_uri": "https://localhost:8080/",
          "height": 394
        },
        "id": "qp6QMnRyp7Xq",
        "outputId": "9daccd1c-bc19-49be-bd58-d0028e68e7ea"
      },
      "execution_count": null,
      "outputs": [
        {
          "output_type": "execute_result",
          "data": {
            "text/plain": [
              "                        Coefficients\n",
              "melspectrogram_std          0.035828\n",
              "mfcc_std                    0.026833\n",
              "spectral_centroid_avg       0.018575\n",
              "spectral_centroid_std       0.009899\n",
              "spectral_rolloff_avg        0.007922\n",
              "spectral_bandwidth_std      0.005630\n",
              "spectral_bandwidth_avg      0.004250\n",
              "spectral_rolloff_std        0.003581\n",
              "melspectrogram_avg          0.003522\n",
              "spectral_contrast_avg       0.002188\n",
              "spectral_contrast_std       0.001311"
            ],
            "text/html": [
              "\n",
              "  <div id=\"df-8b3b3652-6c94-4c51-b166-73dfb415a919\">\n",
              "    <div class=\"colab-df-container\">\n",
              "      <div>\n",
              "<style scoped>\n",
              "    .dataframe tbody tr th:only-of-type {\n",
              "        vertical-align: middle;\n",
              "    }\n",
              "\n",
              "    .dataframe tbody tr th {\n",
              "        vertical-align: top;\n",
              "    }\n",
              "\n",
              "    .dataframe thead th {\n",
              "        text-align: right;\n",
              "    }\n",
              "</style>\n",
              "<table border=\"1\" class=\"dataframe\">\n",
              "  <thead>\n",
              "    <tr style=\"text-align: right;\">\n",
              "      <th></th>\n",
              "      <th>Coefficients</th>\n",
              "    </tr>\n",
              "  </thead>\n",
              "  <tbody>\n",
              "    <tr>\n",
              "      <th>melspectrogram_std</th>\n",
              "      <td>0.035828</td>\n",
              "    </tr>\n",
              "    <tr>\n",
              "      <th>mfcc_std</th>\n",
              "      <td>0.026833</td>\n",
              "    </tr>\n",
              "    <tr>\n",
              "      <th>spectral_centroid_avg</th>\n",
              "      <td>0.018575</td>\n",
              "    </tr>\n",
              "    <tr>\n",
              "      <th>spectral_centroid_std</th>\n",
              "      <td>0.009899</td>\n",
              "    </tr>\n",
              "    <tr>\n",
              "      <th>spectral_rolloff_avg</th>\n",
              "      <td>0.007922</td>\n",
              "    </tr>\n",
              "    <tr>\n",
              "      <th>spectral_bandwidth_std</th>\n",
              "      <td>0.005630</td>\n",
              "    </tr>\n",
              "    <tr>\n",
              "      <th>spectral_bandwidth_avg</th>\n",
              "      <td>0.004250</td>\n",
              "    </tr>\n",
              "    <tr>\n",
              "      <th>spectral_rolloff_std</th>\n",
              "      <td>0.003581</td>\n",
              "    </tr>\n",
              "    <tr>\n",
              "      <th>melspectrogram_avg</th>\n",
              "      <td>0.003522</td>\n",
              "    </tr>\n",
              "    <tr>\n",
              "      <th>spectral_contrast_avg</th>\n",
              "      <td>0.002188</td>\n",
              "    </tr>\n",
              "    <tr>\n",
              "      <th>spectral_contrast_std</th>\n",
              "      <td>0.001311</td>\n",
              "    </tr>\n",
              "  </tbody>\n",
              "</table>\n",
              "</div>\n",
              "      <button class=\"colab-df-convert\" onclick=\"convertToInteractive('df-8b3b3652-6c94-4c51-b166-73dfb415a919')\"\n",
              "              title=\"Convert this dataframe to an interactive table.\"\n",
              "              style=\"display:none;\">\n",
              "        \n",
              "  <svg xmlns=\"http://www.w3.org/2000/svg\" height=\"24px\"viewBox=\"0 0 24 24\"\n",
              "       width=\"24px\">\n",
              "    <path d=\"M0 0h24v24H0V0z\" fill=\"none\"/>\n",
              "    <path d=\"M18.56 5.44l.94 2.06.94-2.06 2.06-.94-2.06-.94-.94-2.06-.94 2.06-2.06.94zm-11 1L8.5 8.5l.94-2.06 2.06-.94-2.06-.94L8.5 2.5l-.94 2.06-2.06.94zm10 10l.94 2.06.94-2.06 2.06-.94-2.06-.94-.94-2.06-.94 2.06-2.06.94z\"/><path d=\"M17.41 7.96l-1.37-1.37c-.4-.4-.92-.59-1.43-.59-.52 0-1.04.2-1.43.59L10.3 9.45l-7.72 7.72c-.78.78-.78 2.05 0 2.83L4 21.41c.39.39.9.59 1.41.59.51 0 1.02-.2 1.41-.59l7.78-7.78 2.81-2.81c.8-.78.8-2.07 0-2.86zM5.41 20L4 18.59l7.72-7.72 1.47 1.35L5.41 20z\"/>\n",
              "  </svg>\n",
              "      </button>\n",
              "      \n",
              "  <style>\n",
              "    .colab-df-container {\n",
              "      display:flex;\n",
              "      flex-wrap:wrap;\n",
              "      gap: 12px;\n",
              "    }\n",
              "\n",
              "    .colab-df-convert {\n",
              "      background-color: #E8F0FE;\n",
              "      border: none;\n",
              "      border-radius: 50%;\n",
              "      cursor: pointer;\n",
              "      display: none;\n",
              "      fill: #1967D2;\n",
              "      height: 32px;\n",
              "      padding: 0 0 0 0;\n",
              "      width: 32px;\n",
              "    }\n",
              "\n",
              "    .colab-df-convert:hover {\n",
              "      background-color: #E2EBFA;\n",
              "      box-shadow: 0px 1px 2px rgba(60, 64, 67, 0.3), 0px 1px 3px 1px rgba(60, 64, 67, 0.15);\n",
              "      fill: #174EA6;\n",
              "    }\n",
              "\n",
              "    [theme=dark] .colab-df-convert {\n",
              "      background-color: #3B4455;\n",
              "      fill: #D2E3FC;\n",
              "    }\n",
              "\n",
              "    [theme=dark] .colab-df-convert:hover {\n",
              "      background-color: #434B5C;\n",
              "      box-shadow: 0px 1px 3px 1px rgba(0, 0, 0, 0.15);\n",
              "      filter: drop-shadow(0px 1px 2px rgba(0, 0, 0, 0.3));\n",
              "      fill: #FFFFFF;\n",
              "    }\n",
              "  </style>\n",
              "\n",
              "      <script>\n",
              "        const buttonEl =\n",
              "          document.querySelector('#df-8b3b3652-6c94-4c51-b166-73dfb415a919 button.colab-df-convert');\n",
              "        buttonEl.style.display =\n",
              "          google.colab.kernel.accessAllowed ? 'block' : 'none';\n",
              "\n",
              "        async function convertToInteractive(key) {\n",
              "          const element = document.querySelector('#df-8b3b3652-6c94-4c51-b166-73dfb415a919');\n",
              "          const dataTable =\n",
              "            await google.colab.kernel.invokeFunction('convertToInteractive',\n",
              "                                                     [key], {});\n",
              "          if (!dataTable) return;\n",
              "\n",
              "          const docLinkHtml = 'Like what you see? Visit the ' +\n",
              "            '<a target=\"_blank\" href=https://colab.research.google.com/notebooks/data_table.ipynb>data table notebook</a>'\n",
              "            + ' to learn more about interactive tables.';\n",
              "          element.innerHTML = '';\n",
              "          dataTable['output_type'] = 'display_data';\n",
              "          await google.colab.output.renderOutput(dataTable, element);\n",
              "          const docLink = document.createElement('div');\n",
              "          docLink.innerHTML = docLinkHtml;\n",
              "          element.appendChild(docLink);\n",
              "        }\n",
              "      </script>\n",
              "    </div>\n",
              "  </div>\n",
              "  "
            ]
          },
          "metadata": {},
          "execution_count": 43
        }
      ]
    },
    {
      "cell_type": "code",
      "source": [
        "logreg_feature_cols = ['tempogram_std', 'tempogram_avg', 'chroma_cqt_avg',  'melspectrogram_avg', 'spectral_contrast_avg', \n",
        "                       'chroma_stft_avg', 'chroma_cens_avg', 'tonnetz_std', 'spectral_contrast_avg', 'chroma_stft_std', 'tds']\n",
        "logreg_filtered_df = df_upsample_clean[logreg_feature_cols]\n",
        "X = logreg_filtered_df.drop(['tds'], axis=1)\n",
        "y = logreg_filtered_df.tds"
      ],
      "metadata": {
        "id": "ARGkdvovNeds"
      },
      "execution_count": null,
      "outputs": []
    },
    {
      "cell_type": "markdown",
      "source": [
        "**Logreg with cleaned features**"
      ],
      "metadata": {
        "id": "zizHVMQfo2Rc"
      }
    },
    {
      "cell_type": "code",
      "source": [
        "from sklearn.model_selection import train_test_split\n",
        "X_train, X_test, y_train, y_test = train_test_split(X, y, test_size=0.4, random_state=16)"
      ],
      "metadata": {
        "id": "KDu5YjgspAXO"
      },
      "execution_count": null,
      "outputs": []
    },
    {
      "cell_type": "code",
      "source": [
        "from sklearn.linear_model import LogisticRegression\n",
        "\n",
        "logreg = LogisticRegression(solver='lbfgs', max_iter=3000)\n",
        "logreg.fit(X_train, y_train)\n",
        "y_pred = logreg.predict(X_test)"
      ],
      "metadata": {
        "id": "8ziK8l2XNebT"
      },
      "execution_count": null,
      "outputs": []
    },
    {
      "cell_type": "code",
      "source": [
        "from sklearn.metrics import classification_report\n",
        "from sklearn.metrics import accuracy_score\n",
        "\n",
        "print(classification_report(y_test,y_pred))\n",
        "val_acc = accuracy_score(y_pred, y_test)\n",
        "print(val_acc)"
      ],
      "metadata": {
        "colab": {
          "base_uri": "https://localhost:8080/"
        },
        "id": "BOuAD-f8NeYv",
        "outputId": "d340fb90-634d-41ec-a443-9078f3742715"
      },
      "execution_count": null,
      "outputs": [
        {
          "output_type": "stream",
          "name": "stdout",
          "text": [
            "              precision    recall  f1-score   support\n",
            "\n",
            "           0       0.53      0.51      0.52        59\n",
            "           1       0.55      0.56      0.56        62\n",
            "\n",
            "    accuracy                           0.54       121\n",
            "   macro avg       0.54      0.54      0.54       121\n",
            "weighted avg       0.54      0.54      0.54       121\n",
            "\n",
            "0.5371900826446281\n"
          ]
        }
      ]
    },
    {
      "cell_type": "markdown",
      "source": [
        "Really bad actually =)"
      ],
      "metadata": {
        "id": "Jk7fZ_TwPDVh"
      }
    },
    {
      "cell_type": "code",
      "source": [
        "cross_validate(logreg, X1, y, scoring=scoring)"
      ],
      "metadata": {
        "colab": {
          "base_uri": "https://localhost:8080/"
        },
        "id": "nA54hvGXvtDo",
        "outputId": "f8e17b85-31fb-4cd3-b8b1-1a3d0976c288"
      },
      "execution_count": null,
      "outputs": [
        {
          "output_type": "execute_result",
          "data": {
            "text/plain": [
              "{'fit_time': array([0.0331111 , 0.03928089, 0.02874613, 0.01969671, 0.02937365]),\n",
              " 'score_time': array([0.00541997, 0.01312876, 0.0058794 , 0.00557876, 0.00563359]),\n",
              " 'test_recall': array([0.67741935, 0.70967742, 0.66666667, 0.7       , 0.66666667]),\n",
              " 'test_accuracy': array([0.67213115, 0.50819672, 0.55      , 0.66666667, 0.63333333]),\n",
              " 'test_f1': array([0.67741935, 0.59459459, 0.59701493, 0.67741935, 0.64516129])}"
            ]
          },
          "metadata": {},
          "execution_count": 64
        }
      ]
    },
    {
      "cell_type": "markdown",
      "source": [
        "**Random forest with cleaned features**"
      ],
      "metadata": {
        "id": "-jKSu1XiqgFI"
      }
    },
    {
      "cell_type": "code",
      "source": [
        "from sklearn.inspection import permutation_importance\n",
        "sorted_idx = rfc.feature_importances_.argsort()\n",
        "feature_names = [f\"feature {i}\" for i in range(X.shape[1])]\n",
        "plt.barh(X.columns[sorted_idx], rfc.feature_importances_[sorted_idx])\n",
        "plt.xlabel(\"Random Forest Feature Importance\")"
      ],
      "metadata": {
        "colab": {
          "base_uri": "https://localhost:8080/",
          "height": 296
        },
        "id": "InjQbQqgPyw_",
        "outputId": "cb70f419-56cc-4812-8a83-6e693fc8384a"
      },
      "execution_count": null,
      "outputs": [
        {
          "output_type": "execute_result",
          "data": {
            "text/plain": [
              "Text(0.5, 0, 'Random Forest Feature Importance')"
            ]
          },
          "metadata": {},
          "execution_count": 252
        },
        {
          "output_type": "display_data",
          "data": {
            "text/plain": [
              "<Figure size 432x288 with 1 Axes>"
            ],
            "image/png": "[encoded data removed]"
          },
          "metadata": {
            "needs_background": "light"
          }
        }
      ]
    },
    {
      "cell_type": "code",
      "source": [
        "X.columns[sorted_idx][15:]"
      ],
      "metadata": {
        "colab": {
          "base_uri": "https://localhost:8080/"
        },
        "id": "bRLJvjY0RQlw",
        "outputId": "41d05a2b-321b-4e8d-c695-efa0a5063e81"
      },
      "execution_count": null,
      "outputs": [
        {
          "output_type": "execute_result",
          "data": {
            "text/plain": [
              "Index(['poly_features_avg', 'rms_std', 'melspectrogram_std',\n",
              "       'poly_features_std', 'melspectrogram_avg', 'tonnetz_std',\n",
              "       'chroma_cqt_std', 'spectral_centroid_avg', 'tempogram_avg',\n",
              "       'spectral_bandwidth_avg', 'mfcc_std', 'spectral_flatness_avg',\n",
              "       'tempogram_std'],\n",
              "      dtype='object')"
            ]
          },
          "metadata": {},
          "execution_count": 253
        }
      ]
    },
    {
      "cell_type": "code",
      "source": [
        "rfc_feature_cols = X.columns[sorted_idx][15:]\n",
        "rfc_X = df_upsample_clean[rfc_feature_cols]\n",
        "y = df_upsample_clean.tds # Target variable"
      ],
      "metadata": {
        "id": "6TAVgzmSSF5l"
      },
      "execution_count": null,
      "outputs": []
    },
    {
      "cell_type": "code",
      "source": [
        "from sklearn.model_selection import train_test_split\n",
        "X_train, X_test, y_train, y_test = train_test_split(rfc_X, y, test_size=0.4, random_state=16)"
      ],
      "metadata": {
        "id": "HpUgdqtuSOz3"
      },
      "execution_count": null,
      "outputs": []
    },
    {
      "cell_type": "code",
      "source": [
        "from sklearn.ensemble import RandomForestClassifier\n",
        "\n",
        "rfc = RandomForestClassifier(n_estimators=100)\n",
        "rfc.fit(X_train, y_train)\n",
        "y_pred = rfc.predict(X_test)"
      ],
      "metadata": {
        "id": "J6pwqsH2qpMW"
      },
      "execution_count": null,
      "outputs": []
    },
    {
      "cell_type": "code",
      "source": [
        "print(classification_report(y_test,y_pred))\n",
        "val_acc = accuracy_score(y_pred, y_test)\n",
        "print(val_acc)"
      ],
      "metadata": {
        "colab": {
          "base_uri": "https://localhost:8080/"
        },
        "outputId": "01857ed8-43de-4889-812e-8b7348c04d2c",
        "id": "WoZhodHrqpMX"
      },
      "execution_count": null,
      "outputs": [
        {
          "output_type": "stream",
          "name": "stdout",
          "text": [
            "              precision    recall  f1-score   support\n",
            "\n",
            "           0       1.00      0.95      0.97        59\n",
            "           1       0.95      1.00      0.98        62\n",
            "\n",
            "    accuracy                           0.98       121\n",
            "   macro avg       0.98      0.97      0.98       121\n",
            "weighted avg       0.98      0.98      0.98       121\n",
            "\n",
            "0.9752066115702479\n"
          ]
        }
      ]
    },
    {
      "cell_type": "code",
      "source": [
        "cross_validate(clf, X, y, scoring=scoring)"
      ],
      "metadata": {
        "id": "ITigF53Fv2ua",
        "outputId": "81593823-129e-476d-aa7a-958dd877c2fb",
        "colab": {
          "base_uri": "https://localhost:8080/"
        }
      },
      "execution_count": null,
      "outputs": [
        {
          "output_type": "execute_result",
          "data": {
            "text/plain": [
              "{'fit_time': array([0.28826952, 0.89900112, 0.28104353, 0.54367781, 0.30875802]),\n",
              " 'score_time': array([0.00713205, 0.00647736, 0.00653386, 0.00715518, 0.00643873]),\n",
              " 'test_recall': array([0.93548387, 0.96774194, 1.        , 0.2       , 1.        ]),\n",
              " 'test_accuracy': array([0.47540984, 0.81967213, 0.5       , 0.55      , 0.58333333]),\n",
              " 'test_f1': array([0.64444444, 0.84507042, 0.66666667, 0.30769231, 0.70588235])}"
            ]
          },
          "metadata": {},
          "execution_count": 259
        }
      ]
    },
    {
      "cell_type": "markdown",
      "source": [
        "Bad too😥 ![image.png](data:image/png;base64,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)"
      ],
      "metadata": {
        "id": "2JGTL3QhmzqI"
      }
    }
  ]
}