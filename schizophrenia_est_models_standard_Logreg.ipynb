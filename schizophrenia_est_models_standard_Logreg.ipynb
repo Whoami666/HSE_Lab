{
  "nbformat": 4,
  "nbformat_minor": 0,
  "metadata": {
    "colab": {
      "provenance": [],
      "authorship_tag": "ABX9TyN2Oncl4gzFb+9uWVwxc3vm",
      "include_colab_link": true
    },
    "kernelspec": {
      "name": "python3",
      "display_name": "Python 3"
    },
    "language_info": {
      "name": "python"
    }
  },
  "cells": [
    {
      "cell_type": "markdown",
      "metadata": {
        "id": "view-in-github",
        "colab_type": "text"
      },
      "source": [
        "<a href=\"https://colab.research.google.com/github/Whoami666/HSE_Lab/blob/main/schizophrenia_est_models_standard_Logreg.ipynb\" target=\"_parent\"><img src=\"https://colab.research.google.com/assets/colab-badge.svg\" alt=\"Open In Colab\"/></a>"
      ]
    },
    {
      "cell_type": "code",
      "execution_count": 34,
      "metadata": {
        "id": "-Y9qFEkdAqWe"
      },
      "outputs": [],
      "source": [
        "import pandas as pd\n",
        "import numpy as np"
      ]
    },
    {
      "cell_type": "code",
      "source": [
        "from sklearn.model_selection import train_test_split"
      ],
      "metadata": {
        "id": "GVASIRG6DAjf"
      },
      "execution_count": 35,
      "outputs": []
    },
    {
      "cell_type": "code",
      "source": [
        "df = pd.read_excel('/content/df_standard_cleaned_21feb.xlsx')   \n",
        "df = df.set_index('ID')\n",
        "df.head(1)"
      ],
      "metadata": {
        "colab": {
          "base_uri": "https://localhost:8080/",
          "height": 222
        },
        "id": "m-_Cve02Av7t",
        "outputId": "115a0c02-4db3-4a30-b23a-71d7314f305a"
      },
      "execution_count": 36,
      "outputs": [
        {
          "output_type": "execute_result",
          "data": {
            "text/plain": [
              "        sex  tds  chroma_cens_avg  chroma_cens_std  chroma_cqt_avg  \\\n",
              "ID                                                                   \n",
              "PD-003    1    0         0.685706         0.428088        0.425039   \n",
              "\n",
              "        chroma_cqt_std  chroma_stft_avg  chroma_stft_std  melspectrogram_avg  \\\n",
              "ID                                                                             \n",
              "PD-003        0.296394         0.339246         0.434412            0.327867   \n",
              "\n",
              "        melspectrogram_std  ...  spectral_flatness_std  spectral_rolloff_avg  \\\n",
              "ID                          ...                                                \n",
              "PD-003            0.348849  ...                0.31499              0.397736   \n",
              "\n",
              "        spectral_rolloff_std  tempogram_avg  tempogram_std  tonnetz_avg  \\\n",
              "ID                                                                        \n",
              "PD-003              0.254215       0.747885       0.719312     0.691479   \n",
              "\n",
              "        tonnetz_std  zero_crossing_rate_avg  zero_crossing_rate_std  \\\n",
              "ID                                                                    \n",
              "PD-003     0.329593                0.197304                0.281692   \n",
              "\n",
              "        tds_binary  \n",
              "ID                  \n",
              "PD-003           0  \n",
              "\n",
              "[1 rows x 31 columns]"
            ],
            "text/html": [
              "\n",
              "  <div id=\"df-48ee6f14-ea1b-44db-8ee0-eb4c0b2688e3\">\n",
              "    <div class=\"colab-df-container\">\n",
              "      <div>\n",
              "<style scoped>\n",
              "    .dataframe tbody tr th:only-of-type {\n",
              "        vertical-align: middle;\n",
              "    }\n",
              "\n",
              "    .dataframe tbody tr th {\n",
              "        vertical-align: top;\n",
              "    }\n",
              "\n",
              "    .dataframe thead th {\n",
              "        text-align: right;\n",
              "    }\n",
              "</style>\n",
              "<table border=\"1\" class=\"dataframe\">\n",
              "  <thead>\n",
              "    <tr style=\"text-align: right;\">\n",
              "      <th></th>\n",
              "      <th>sex</th>\n",
              "      <th>tds</th>\n",
              "      <th>chroma_cens_avg</th>\n",
              "      <th>chroma_cens_std</th>\n",
              "      <th>chroma_cqt_avg</th>\n",
              "      <th>chroma_cqt_std</th>\n",
              "      <th>chroma_stft_avg</th>\n",
              "      <th>chroma_stft_std</th>\n",
              "      <th>melspectrogram_avg</th>\n",
              "      <th>melspectrogram_std</th>\n",
              "      <th>...</th>\n",
              "      <th>spectral_flatness_std</th>\n",
              "      <th>spectral_rolloff_avg</th>\n",
              "      <th>spectral_rolloff_std</th>\n",
              "      <th>tempogram_avg</th>\n",
              "      <th>tempogram_std</th>\n",
              "      <th>tonnetz_avg</th>\n",
              "      <th>tonnetz_std</th>\n",
              "      <th>zero_crossing_rate_avg</th>\n",
              "      <th>zero_crossing_rate_std</th>\n",
              "      <th>tds_binary</th>\n",
              "    </tr>\n",
              "    <tr>\n",
              "      <th>ID</th>\n",
              "      <th></th>\n",
              "      <th></th>\n",
              "      <th></th>\n",
              "      <th></th>\n",
              "      <th></th>\n",
              "      <th></th>\n",
              "      <th></th>\n",
              "      <th></th>\n",
              "      <th></th>\n",
              "      <th></th>\n",
              "      <th></th>\n",
              "      <th></th>\n",
              "      <th></th>\n",
              "      <th></th>\n",
              "      <th></th>\n",
              "      <th></th>\n",
              "      <th></th>\n",
              "      <th></th>\n",
              "      <th></th>\n",
              "      <th></th>\n",
              "      <th></th>\n",
              "    </tr>\n",
              "  </thead>\n",
              "  <tbody>\n",
              "    <tr>\n",
              "      <th>PD-003</th>\n",
              "      <td>1</td>\n",
              "      <td>0</td>\n",
              "      <td>0.685706</td>\n",
              "      <td>0.428088</td>\n",
              "      <td>0.425039</td>\n",
              "      <td>0.296394</td>\n",
              "      <td>0.339246</td>\n",
              "      <td>0.434412</td>\n",
              "      <td>0.327867</td>\n",
              "      <td>0.348849</td>\n",
              "      <td>...</td>\n",
              "      <td>0.31499</td>\n",
              "      <td>0.397736</td>\n",
              "      <td>0.254215</td>\n",
              "      <td>0.747885</td>\n",
              "      <td>0.719312</td>\n",
              "      <td>0.691479</td>\n",
              "      <td>0.329593</td>\n",
              "      <td>0.197304</td>\n",
              "      <td>0.281692</td>\n",
              "      <td>0</td>\n",
              "    </tr>\n",
              "  </tbody>\n",
              "</table>\n",
              "<p>1 rows × 31 columns</p>\n",
              "</div>\n",
              "      <button class=\"colab-df-convert\" onclick=\"convertToInteractive('df-48ee6f14-ea1b-44db-8ee0-eb4c0b2688e3')\"\n",
              "              title=\"Convert this dataframe to an interactive table.\"\n",
              "              style=\"display:none;\">\n",
              "        \n",
              "  <svg xmlns=\"http://www.w3.org/2000/svg\" height=\"24px\"viewBox=\"0 0 24 24\"\n",
              "       width=\"24px\">\n",
              "    <path d=\"M0 0h24v24H0V0z\" fill=\"none\"/>\n",
              "    <path d=\"M18.56 5.44l.94 2.06.94-2.06 2.06-.94-2.06-.94-.94-2.06-.94 2.06-2.06.94zm-11 1L8.5 8.5l.94-2.06 2.06-.94-2.06-.94L8.5 2.5l-.94 2.06-2.06.94zm10 10l.94 2.06.94-2.06 2.06-.94-2.06-.94-.94-2.06-.94 2.06-2.06.94z\"/><path d=\"M17.41 7.96l-1.37-1.37c-.4-.4-.92-.59-1.43-.59-.52 0-1.04.2-1.43.59L10.3 9.45l-7.72 7.72c-.78.78-.78 2.05 0 2.83L4 21.41c.39.39.9.59 1.41.59.51 0 1.02-.2 1.41-.59l7.78-7.78 2.81-2.81c.8-.78.8-2.07 0-2.86zM5.41 20L4 18.59l7.72-7.72 1.47 1.35L5.41 20z\"/>\n",
              "  </svg>\n",
              "      </button>\n",
              "      \n",
              "  <style>\n",
              "    .colab-df-container {\n",
              "      display:flex;\n",
              "      flex-wrap:wrap;\n",
              "      gap: 12px;\n",
              "    }\n",
              "\n",
              "    .colab-df-convert {\n",
              "      background-color: #E8F0FE;\n",
              "      border: none;\n",
              "      border-radius: 50%;\n",
              "      cursor: pointer;\n",
              "      display: none;\n",
              "      fill: #1967D2;\n",
              "      height: 32px;\n",
              "      padding: 0 0 0 0;\n",
              "      width: 32px;\n",
              "    }\n",
              "\n",
              "    .colab-df-convert:hover {\n",
              "      background-color: #E2EBFA;\n",
              "      box-shadow: 0px 1px 2px rgba(60, 64, 67, 0.3), 0px 1px 3px 1px rgba(60, 64, 67, 0.15);\n",
              "      fill: #174EA6;\n",
              "    }\n",
              "\n",
              "    [theme=dark] .colab-df-convert {\n",
              "      background-color: #3B4455;\n",
              "      fill: #D2E3FC;\n",
              "    }\n",
              "\n",
              "    [theme=dark] .colab-df-convert:hover {\n",
              "      background-color: #434B5C;\n",
              "      box-shadow: 0px 1px 3px 1px rgba(0, 0, 0, 0.15);\n",
              "      filter: drop-shadow(0px 1px 2px rgba(0, 0, 0, 0.3));\n",
              "      fill: #FFFFFF;\n",
              "    }\n",
              "  </style>\n",
              "\n",
              "      <script>\n",
              "        const buttonEl =\n",
              "          document.querySelector('#df-48ee6f14-ea1b-44db-8ee0-eb4c0b2688e3 button.colab-df-convert');\n",
              "        buttonEl.style.display =\n",
              "          google.colab.kernel.accessAllowed ? 'block' : 'none';\n",
              "\n",
              "        async function convertToInteractive(key) {\n",
              "          const element = document.querySelector('#df-48ee6f14-ea1b-44db-8ee0-eb4c0b2688e3');\n",
              "          const dataTable =\n",
              "            await google.colab.kernel.invokeFunction('convertToInteractive',\n",
              "                                                     [key], {});\n",
              "          if (!dataTable) return;\n",
              "\n",
              "          const docLinkHtml = 'Like what you see? Visit the ' +\n",
              "            '<a target=\"_blank\" href=https://colab.research.google.com/notebooks/data_table.ipynb>data table notebook</a>'\n",
              "            + ' to learn more about interactive tables.';\n",
              "          element.innerHTML = '';\n",
              "          dataTable['output_type'] = 'display_data';\n",
              "          await google.colab.output.renderOutput(dataTable, element);\n",
              "          const docLink = document.createElement('div');\n",
              "          docLink.innerHTML = docLinkHtml;\n",
              "          element.appendChild(docLink);\n",
              "        }\n",
              "      </script>\n",
              "    </div>\n",
              "  </div>\n",
              "  "
            ]
          },
          "metadata": {},
          "execution_count": 36
        }
      ]
    },
    {
      "cell_type": "markdown",
      "source": [
        "**Models**"
      ],
      "metadata": {
        "id": "dlja-6F_B-E7"
      }
    },
    {
      "cell_type": "code",
      "source": [
        "from sklearn.metrics import classification_report\n",
        "from sklearn.metrics import accuracy_score\n",
        "from sklearn.model_selection import cross_val_score\n",
        "from sklearn.model_selection import cross_validate\n",
        "from sklearn.metrics import recall_score\n",
        "from sklearn.metrics import roc_auc_score"
      ],
      "metadata": {
        "id": "MltAiJ4jCAJQ"
      },
      "execution_count": 37,
      "outputs": []
    },
    {
      "cell_type": "markdown",
      "source": [
        "**Logreg**"
      ],
      "metadata": {
        "id": "plYu8ln3BKJi"
      }
    },
    {
      "cell_type": "markdown",
      "source": [
        "Non-binary"
      ],
      "metadata": {
        "id": "2Dk-RkBjCyP3"
      }
    },
    {
      "cell_type": "code",
      "source": [
        "X = df.drop(['tds', 'tds_binary'], axis=1)\n",
        "y = df.tds # Target variable\n",
        "\n",
        "X_train, X_test, y_train, y_test = train_test_split(X, y, test_size=0.4, random_state=16)"
      ],
      "metadata": {
        "id": "_tlr7dfdA2Zs"
      },
      "execution_count": 38,
      "outputs": []
    },
    {
      "cell_type": "code",
      "source": [
        "from sklearn.linear_model import LogisticRegression\n",
        "from sklearn.model_selection import GridSearchCV\n",
        "import warnings\n",
        "warnings.filterwarnings('ignore')\n",
        "\n",
        "parameters = {\n",
        "    'penalty' : ['l1','l2'], \n",
        "    'C'       : np.logspace(-3,3,7),\n",
        "    'solver'  : ['newton-cg', 'lbfgs', 'liblinear'],\n",
        "}\n",
        "\n",
        "logreg = LogisticRegression()\n",
        "clf = GridSearchCV(logreg,                    # model\n",
        "                   param_grid = parameters,   # hyperparameters\n",
        "                   scoring='accuracy',        # metric for scoring\n",
        "                   cv=10)  \n",
        "          \n",
        "clf.fit(X_train,y_train)\n",
        "\n",
        "print(\"Tuned Hyperparameters :\", clf.best_params_)\n",
        "print(\"Accuracy :\", clf.best_score_)"
      ],
      "metadata": {
        "colab": {
          "base_uri": "https://localhost:8080/"
        },
        "id": "xAk5HwInBHgM",
        "outputId": "fb3cadf5-a3ca-4185-edd0-3b6bce4248ad"
      },
      "execution_count": 39,
      "outputs": [
        {
          "output_type": "stream",
          "name": "stdout",
          "text": [
            "Tuned Hyperparameters : {'C': 10.0, 'penalty': 'l1', 'solver': 'liblinear'}\n",
            "Accuracy : 0.9027272727272727\n"
          ]
        }
      ]
    },
    {
      "cell_type": "code",
      "source": [
        "warnings.filterwarnings('default')"
      ],
      "metadata": {
        "id": "PqLyHxC_BYU-"
      },
      "execution_count": 40,
      "outputs": []
    },
    {
      "cell_type": "code",
      "source": [
        "params = clf.best_params_\n",
        "logreg = LogisticRegression(solver=params['solver'], max_iter=6000, penalty=params['penalty'], C=params['C']) #, class_weight = 'balanced' 'C': 0.1,  'penalty': 'l2',  'solver': 'liblinear'\n",
        "logreg.fit(X_train, y_train)\n",
        "y_pred = logreg.predict(X_test)"
      ],
      "metadata": {
        "id": "PhmkswXEBimR"
      },
      "execution_count": 41,
      "outputs": []
    },
    {
      "cell_type": "code",
      "source": [
        "print(classification_report(y_test,y_pred))\n",
        "val_acc = accuracy_score(y_pred, y_test)\n",
        "print(val_acc)"
      ],
      "metadata": {
        "colab": {
          "base_uri": "https://localhost:8080/"
        },
        "id": "tqnbJeN3Bmc-",
        "outputId": "de14e75c-1de9-4762-c4dc-3721cb15f895"
      },
      "execution_count": 42,
      "outputs": [
        {
          "output_type": "stream",
          "name": "stdout",
          "text": [
            "              precision    recall  f1-score   support\n",
            "\n",
            "           0       0.91      0.98      0.94        60\n",
            "           1       0.33      0.17      0.22         6\n",
            "           2       0.00      0.00      0.00         2\n",
            "\n",
            "    accuracy                           0.88        68\n",
            "   macro avg       0.41      0.38      0.39        68\n",
            "weighted avg       0.83      0.88      0.85        68\n",
            "\n",
            "0.8823529411764706\n"
          ]
        },
        {
          "output_type": "stream",
          "name": "stderr",
          "text": [
            "/usr/local/lib/python3.8/dist-packages/sklearn/metrics/_classification.py:1318: UndefinedMetricWarning: Precision and F-score are ill-defined and being set to 0.0 in labels with no predicted samples. Use `zero_division` parameter to control this behavior.\n",
            "  _warn_prf(average, modifier, msg_start, len(result))\n",
            "/usr/local/lib/python3.8/dist-packages/sklearn/metrics/_classification.py:1318: UndefinedMetricWarning: Precision and F-score are ill-defined and being set to 0.0 in labels with no predicted samples. Use `zero_division` parameter to control this behavior.\n",
            "  _warn_prf(average, modifier, msg_start, len(result))\n",
            "/usr/local/lib/python3.8/dist-packages/sklearn/metrics/_classification.py:1318: UndefinedMetricWarning: Precision and F-score are ill-defined and being set to 0.0 in labels with no predicted samples. Use `zero_division` parameter to control this behavior.\n",
            "  _warn_prf(average, modifier, msg_start, len(result))\n"
          ]
        }
      ]
    },
    {
      "cell_type": "markdown",
      "source": [
        "Binary"
      ],
      "metadata": {
        "id": "QMtlKS1dC0oh"
      }
    },
    {
      "cell_type": "code",
      "source": [
        "X = df.drop(['tds', 'tds_binary'], axis=1)\n",
        "y = df.tds_binary # Target variable\n",
        "\n",
        "X_train, X_test, y_train, y_test = train_test_split(X, y, test_size=0.4, random_state=16)"
      ],
      "metadata": {
        "id": "35b-Q4fKDEhi"
      },
      "execution_count": 43,
      "outputs": []
    },
    {
      "cell_type": "code",
      "source": [
        "from sklearn.linear_model import LogisticRegression\n",
        "from sklearn.model_selection import GridSearchCV\n",
        "import warnings\n",
        "warnings.filterwarnings('ignore')\n",
        "\n",
        "parameters = {\n",
        "    'penalty' : ['l1','l2'], \n",
        "    'C'       : np.logspace(-3,3,7),\n",
        "    'solver'  : ['newton-cg', 'lbfgs', 'liblinear'],\n",
        "}\n",
        "\n",
        "logreg = LogisticRegression()\n",
        "clf = GridSearchCV(logreg,                    # model\n",
        "                   param_grid = parameters,   # hyperparameters\n",
        "                   scoring='accuracy',        # metric for scoring\n",
        "                   cv=10)  \n",
        "          \n",
        "clf.fit(X_train,y_train)\n",
        "\n",
        "print(\"Tuned Hyperparameters :\", clf.best_params_)\n",
        "print(\"Accuracy :\", clf.best_score_)"
      ],
      "metadata": {
        "colab": {
          "base_uri": "https://localhost:8080/"
        },
        "id": "nKWM7foLC1-C",
        "outputId": "bcf3ee18-3d88-4699-f806-a48026355e11"
      },
      "execution_count": 44,
      "outputs": [
        {
          "output_type": "stream",
          "name": "stdout",
          "text": [
            "Tuned Hyperparameters : {'C': 10.0, 'penalty': 'l1', 'solver': 'liblinear'}\n",
            "Accuracy : 0.8927272727272728\n"
          ]
        }
      ]
    },
    {
      "cell_type": "code",
      "source": [
        "warnings.filterwarnings('default')"
      ],
      "metadata": {
        "id": "Y91WGaawDJpp"
      },
      "execution_count": 45,
      "outputs": []
    },
    {
      "cell_type": "code",
      "source": [
        "params = clf.best_params_\n",
        "logreg = LogisticRegression(solver=params['solver'], max_iter=6000, penalty=params['penalty'], C=params['C']) #, class_weight = 'balanced' 'C': 0.1,  'penalty': 'l2',  'solver': 'liblinear'\n",
        "logreg.fit(X_train, y_train)\n",
        "y_pred = logreg.predict(X_test)"
      ],
      "metadata": {
        "id": "z1JlHdIuDOHd"
      },
      "execution_count": 46,
      "outputs": []
    },
    {
      "cell_type": "code",
      "source": [
        "scoring = ['recall', 'accuracy', 'f1', 'roc_auc']\n",
        "scores = cross_validate(logreg, X, y, scoring=scoring)\n",
        "scores"
      ],
      "metadata": {
        "colab": {
          "base_uri": "https://localhost:8080/"
        },
        "id": "D7FPjiJmB8Hc",
        "outputId": "877dbb78-a768-4266-9b88-5f8455f1f16f"
      },
      "execution_count": 47,
      "outputs": [
        {
          "output_type": "execute_result",
          "data": {
            "text/plain": [
              "{'fit_time': array([0.01052213, 0.00930142, 0.00586724, 0.00731182, 0.0047245 ]),\n",
              " 'score_time': array([0.00714445, 0.00905466, 0.006145  , 0.00656295, 0.00626993]),\n",
              " 'test_recall': array([0.        , 0.        , 1.        , 0.5       , 0.33333333]),\n",
              " 'test_accuracy': array([0.85294118, 0.82352941, 0.94117647, 0.94117647, 0.90909091]),\n",
              " 'test_f1': array([0.        , 0.        , 0.8       , 0.66666667, 0.4       ]),\n",
              " 'test_roc_auc': array([0.875     , 0.85833333, 0.96666667, 0.94166667, 0.87777778])}"
            ]
          },
          "metadata": {},
          "execution_count": 47
        }
      ]
    },
    {
      "cell_type": "markdown",
      "source": [
        "**Get rid of 2 few non-1D features**"
      ],
      "metadata": {
        "id": "DyrG0y6sP0MS"
      }
    },
    {
      "cell_type": "code",
      "source": [
        "df = df.drop(['melspectrogram_std', 'melspectrogram_avg', 'mfcc_std'], axis=1)\n",
        "df.head(1)"
      ],
      "metadata": {
        "id": "A9QO9_8rPz6b"
      },
      "execution_count": null,
      "outputs": []
    },
    {
      "cell_type": "markdown",
      "source": [
        "Non-binary"
      ],
      "metadata": {
        "id": "StrhexSURABs"
      }
    },
    {
      "cell_type": "code",
      "source": [
        "X = df.drop(['tds', 'tds_binary'], axis=1)\n",
        "y = df.tds # Target variable\n",
        "\n",
        "X_train, X_test, y_train, y_test = train_test_split(X, y, test_size=0.4, random_state=16)"
      ],
      "metadata": {
        "id": "7DF6JVWWQqQP"
      },
      "execution_count": 49,
      "outputs": []
    },
    {
      "cell_type": "code",
      "source": [
        "from sklearn.linear_model import LogisticRegression\n",
        "from sklearn.model_selection import GridSearchCV\n",
        "import warnings\n",
        "warnings.filterwarnings('ignore')\n",
        "\n",
        "parameters = {\n",
        "    'penalty' : ['l1','l2'], \n",
        "    'C'       : np.logspace(-3,3,7),\n",
        "    'solver'  : ['newton-cg', 'lbfgs', 'liblinear'],\n",
        "}\n",
        "\n",
        "logreg = LogisticRegression()\n",
        "clf = GridSearchCV(logreg,                    # model\n",
        "                   param_grid = parameters,   # hyperparameters\n",
        "                   scoring='accuracy',        # metric for scoring\n",
        "                   cv=10)  \n",
        "          \n",
        "clf.fit(X_train,y_train)\n",
        "\n",
        "print(\"Tuned Hyperparameters :\", clf.best_params_)\n",
        "print(\"Accuracy :\", clf.best_score_)"
      ],
      "metadata": {
        "colab": {
          "base_uri": "https://localhost:8080/"
        },
        "id": "BI4oNKY0Qvzh",
        "outputId": "bc3e48a0-7135-4cbe-bcf7-25348957ed2e"
      },
      "execution_count": 50,
      "outputs": [
        {
          "output_type": "stream",
          "name": "stdout",
          "text": [
            "Tuned Hyperparameters : {'C': 100.0, 'penalty': 'l2', 'solver': 'liblinear'}\n",
            "Accuracy : 0.9127272727272727\n"
          ]
        }
      ]
    },
    {
      "cell_type": "code",
      "source": [
        "params = clf.best_params_\n",
        "logreg = LogisticRegression(solver=params['solver'], max_iter=6000, penalty=params['penalty'], C=params['C']) #, class_weight = 'balanced' 'C': 0.1,  'penalty': 'l2',  'solver': 'liblinear'\n",
        "logreg.fit(X_train, y_train)\n",
        "y_pred = logreg.predict(X_test)"
      ],
      "metadata": {
        "id": "WL7swI8eQyok"
      },
      "execution_count": 51,
      "outputs": []
    },
    {
      "cell_type": "code",
      "source": [
        "print(classification_report(y_test,y_pred))\n",
        "val_acc = accuracy_score(y_pred, y_test)\n",
        "print(val_acc)"
      ],
      "metadata": {
        "colab": {
          "base_uri": "https://localhost:8080/"
        },
        "id": "uEXSEsb1Q1lx",
        "outputId": "8cf05a4a-e4ea-4d41-efd2-b93aed649660"
      },
      "execution_count": 52,
      "outputs": [
        {
          "output_type": "stream",
          "name": "stdout",
          "text": [
            "              precision    recall  f1-score   support\n",
            "\n",
            "           0       0.89      0.97      0.93        60\n",
            "           1       0.00      0.00      0.00         6\n",
            "           2       0.00      0.00      0.00         2\n",
            "\n",
            "    accuracy                           0.85        68\n",
            "   macro avg       0.30      0.32      0.31        68\n",
            "weighted avg       0.79      0.85      0.82        68\n",
            "\n",
            "0.8529411764705882\n"
          ]
        }
      ]
    },
    {
      "cell_type": "markdown",
      "source": [
        "Binary"
      ],
      "metadata": {
        "id": "fHa2BaeTQ7W2"
      }
    },
    {
      "cell_type": "code",
      "source": [
        "X = df.drop(['tds', 'tds_binary'], axis=1)\n",
        "y = df.tds_binary # Target variable\n",
        "\n",
        "X_train, X_test, y_train, y_test = train_test_split(X, y, test_size=0.4, random_state=16)"
      ],
      "metadata": {
        "id": "KSwGQqgwQ3Ua"
      },
      "execution_count": 54,
      "outputs": []
    },
    {
      "cell_type": "code",
      "source": [
        "from sklearn.linear_model import LogisticRegression\n",
        "from sklearn.model_selection import GridSearchCV\n",
        "import warnings\n",
        "warnings.filterwarnings('ignore')\n",
        "\n",
        "parameters = {\n",
        "    'penalty' : ['l1','l2'], \n",
        "    'C'       : np.logspace(-3,3,7),\n",
        "    'solver'  : ['newton-cg', 'lbfgs', 'liblinear'],\n",
        "}\n",
        "\n",
        "logreg = LogisticRegression()\n",
        "clf = GridSearchCV(logreg,                    # model\n",
        "                   param_grid = parameters,   # hyperparameters\n",
        "                   scoring='accuracy',        # metric for scoring\n",
        "                   cv=10)  \n",
        "          \n",
        "clf.fit(X_train,y_train)\n",
        "\n",
        "print(\"Tuned Hyperparameters :\", clf.best_params_)\n",
        "print(\"Accuracy :\", clf.best_score_)"
      ],
      "metadata": {
        "colab": {
          "base_uri": "https://localhost:8080/"
        },
        "id": "8-qC09MhRDK8",
        "outputId": "5b08a08a-9adc-4ff6-e17d-b47eae21c5d3"
      },
      "execution_count": 55,
      "outputs": [
        {
          "output_type": "stream",
          "name": "stdout",
          "text": [
            "Tuned Hyperparameters : {'C': 100.0, 'penalty': 'l2', 'solver': 'newton-cg'}\n",
            "Accuracy : 0.9127272727272727\n"
          ]
        }
      ]
    },
    {
      "cell_type": "code",
      "source": [
        "params = clf.best_params_\n",
        "logreg = LogisticRegression(solver=params['solver'], max_iter=6000, penalty=params['penalty'], C=params['C']) #, class_weight = 'balanced' 'C': 0.1,  'penalty': 'l2',  'solver': 'liblinear'\n",
        "logreg.fit(X_train, y_train)\n",
        "y_pred = logreg.predict(X_test)"
      ],
      "metadata": {
        "id": "YOept03vREbn"
      },
      "execution_count": 56,
      "outputs": []
    },
    {
      "cell_type": "code",
      "source": [
        "scoring = ['recall', 'accuracy', 'f1', 'roc_auc']\n",
        "scores = cross_validate(logreg, X, y, scoring=scoring)\n",
        "scores"
      ],
      "metadata": {
        "colab": {
          "base_uri": "https://localhost:8080/"
        },
        "id": "_VuHp4DKRHQC",
        "outputId": "15b89310-78e4-4f39-e010-8bb46a9ec6ac"
      },
      "execution_count": 57,
      "outputs": [
        {
          "output_type": "execute_result",
          "data": {
            "text/plain": [
              "{'fit_time': array([0.02877951, 0.0190804 , 0.01985312, 0.01957703, 0.02236795]),\n",
              " 'score_time': array([0.01017809, 0.0070827 , 0.00721884, 0.00730252, 0.00729942]),\n",
              " 'test_recall': array([0.25, 0.  , 1.  , 0.25, 0.  ]),\n",
              " 'test_accuracy': array([0.88235294, 0.82352941, 0.94117647, 0.91176471, 0.87878788]),\n",
              " 'test_f1': array([0.33333333, 0.        , 0.8       , 0.4       , 0.        ]),\n",
              " 'test_roc_auc': array([0.65      , 0.81666667, 0.96666667, 0.91666667, 0.92222222])}"
            ]
          },
          "metadata": {},
          "execution_count": 57
        }
      ]
    },
    {
      "cell_type": "markdown",
      "source": [
        "![image.png](data:image/png;base64,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)"
      ],
      "metadata": {
        "id": "3o2jX5-_WD_2"
      }
    },
    {
      "cell_type": "code",
      "source": [],
      "metadata": {
        "id": "GN23VykwRJOg"
      },
      "execution_count": null,
      "outputs": []
    }
  ]
}